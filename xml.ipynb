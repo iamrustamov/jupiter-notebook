{
 "cells": [
  {
   "cell_type": "code",
   "execution_count": 3,
   "metadata": {},
   "outputs": [
    {
     "name": "stdout",
     "output_type": "stream",
     "text": [
      "<Element 'studentsList' at 0x10b1f4860>\n",
      "studentsList {}\n",
      "student {'id': '1'}\n",
      "student {'id': '2'}\n"
     ]
    }
   ],
   "source": [
    "from xml.etree import ElementTree\n",
    "\n",
    "tree = ElementTree.parse(\"module3/example.xml\")\n",
    "root = tree.getroot()\n",
    "\n",
    "print(root)\n",
    "print(root.tag, root.attrib)\n",
    "\n",
    "for child in root:\n",
    "    print(child.tag, child.attrib)"
   ]
  },
  {
   "cell_type": "code",
   "execution_count": 7,
   "metadata": {},
   "outputs": [
    {
     "name": "stdout",
     "output_type": "stream",
     "text": [
      "<Element 'studentsList' at 0x10b261310>\n",
      "studentsList {}\n",
      "Greg\n"
     ]
    }
   ],
   "source": [
    "from xml.etree import ElementTree\n",
    "\n",
    "tree = ElementTree.parse(\"module3/example.xml\")\n",
    "root = tree.getroot()\n",
    "\n",
    "print(root)\n",
    "print(root.tag, root.attrib)\n",
    "\n",
    "print(root[0][0].text)"
   ]
  },
  {
   "cell_type": "code",
   "execution_count": 9,
   "metadata": {},
   "outputs": [
    {
     "name": "stdout",
     "output_type": "stream",
     "text": [
      "<Element 'studentsList' at 0x10b28bea0>\n",
      "studentsList {}\n",
      "<Element 'scores' at 0x10b296450>\n",
      "<Element 'scores' at 0x1096de2c0>\n"
     ]
    }
   ],
   "source": [
    "from xml.etree import ElementTree\n",
    "\n",
    "tree = ElementTree.parse(\"module3/example.xml\")\n",
    "root = tree.getroot()\n",
    "\n",
    "print(root)\n",
    "print(root.tag, root.attrib)\n",
    "\n",
    "for element in root.iter(\"scores\"):\n",
    "    print(element)"
   ]
  },
  {
   "cell_type": "code",
   "execution_count": 17,
   "metadata": {},
   "outputs": [
    {
     "name": "stdout",
     "output_type": "stream",
     "text": [
      "<Element 'studentsList' at 0x10b290310>\n",
      "studentsList {}\n",
      "240.0\n",
      "240.2\n"
     ]
    }
   ],
   "source": [
    "from xml.etree import ElementTree\n",
    "\n",
    "tree = ElementTree.parse(\"module3/example.xml\")\n",
    "root = tree.getroot()\n",
    "\n",
    "print(root)\n",
    "print(root.tag, root.attrib)\n",
    "\n",
    "for element in root.iter(\"scores\"):\n",
    "    score_sum = 0\n",
    "    for child in element:\n",
    "        score_sum += float(child.text)\n",
    "    print(score_sum)"
   ]
  },
  {
   "cell_type": "code",
   "execution_count": 13,
   "metadata": {},
   "outputs": [],
   "source": [
    "from xml.etree import ElementTree\n",
    "\n",
    "tree = ElementTree.parse(\"module3/example.xml\")\n",
    "root = tree.getroot()\n",
    "\n",
    "tree.write(\"module3/example_copy.xml\")"
   ]
  },
  {
   "cell_type": "code",
   "execution_count": 20,
   "metadata": {},
   "outputs": [
    {
     "name": "stdout",
     "output_type": "stream",
     "text": [
      "<Element 'module1' at 0x109750630> 70\n"
     ]
    }
   ],
   "source": [
    "from xml.etree import ElementTree\n",
    "\n",
    "tree = ElementTree.parse(\"module3/example.xml\")\n",
    "root = tree.getroot()\n",
    "\n",
    "greg = root[0]\n",
    "module1 = next(greg.iter(\"module1\"))\n",
    "print(module1, module1.text)\n",
    "module1.text = str(float(module1.text) + 30)\n",
    "\n",
    "tree.write(\"module3/example_modified.xml\")"
   ]
  },
  {
   "cell_type": "code",
   "execution_count": 22,
   "metadata": {},
   "outputs": [],
   "source": [
    "from xml.etree import ElementTree\n",
    "\n",
    "tree = ElementTree.parse(\"module3/example.xml\")\n",
    "root = tree.getroot()\n",
    "\n",
    "greg = root[0]\n",
    "certificate = greg[2]\n",
    "certificate.set(\"type\", \"with distinction\")\n",
    "\n",
    "tree.write(\"module3/example_modified.xml\")"
   ]
  },
  {
   "cell_type": "code",
   "execution_count": 26,
   "metadata": {},
   "outputs": [],
   "source": [
    "from xml.etree import ElementTree\n",
    "\n",
    "tree = ElementTree.parse(\"module3/example_modified.xml\")\n",
    "root = tree.getroot()\n",
    "\n",
    "greg = root[0]\n",
    "\n",
    "discription = ElementTree.Element(\"discription\")\n",
    "discription.text = \"Showed excellent skills during the course\"\n",
    "greg.append(discription)\n",
    "\n",
    "tree.write(\"module3/example_modified.xml\")"
   ]
  },
  {
   "cell_type": "code",
   "execution_count": 28,
   "metadata": {},
   "outputs": [],
   "source": [
    "from xml.etree import ElementTree\n",
    "\n",
    "tree = ElementTree.parse(\"module3/example_modified.xml\")\n",
    "root = tree.getroot()\n",
    "\n",
    "greg = root[0]\n",
    "\n",
    "discription = greg.find(\"discription\")\n",
    "greg.remove(discription)\n",
    "\n",
    "tree.write(\"module3/example_modified.xml\")"
   ]
  },
  {
   "cell_type": "code",
   "execution_count": 32,
   "metadata": {},
   "outputs": [],
   "source": [
    "from xml.etree import ElementTree\n",
    "\n",
    "root = tree = ElementTree.Element(\"module3/student\")\n",
    "\n",
    "first_name = ElementTree.SubElement(root, \"firstName\")\n",
    "first_name.text = \"Greg\"\n",
    "\n",
    "second_name = ElementTree.SubElement(root, \"secondName\")\n",
    "second_name.text = \"Dean\"\n",
    "\n",
    "scores = ElementTree.SubElement(root, \"scores\")\n",
    "\n",
    "module1 = ElementTree.SubElement(scores, \"module1\")\n",
    "module1.text = \"100\"\n",
    "\n",
    "module2 = ElementTree.SubElement(scores, \"module2\")\n",
    "module2.text = \"80\"\n",
    "\n",
    "module3 = ElementTree.SubElement(scores, \"module3\")\n",
    "module3.text = \"90\"\n",
    "\n",
    "tree = ElementTree.ElementTree(root)\n",
    "tree.write(\"module3/student1.xml\")"
   ]
  },
  {
   "cell_type": "code",
   "execution_count": 33,
   "metadata": {},
   "outputs": [
    {
     "name": "stdout",
     "output_type": "stream",
     "text": [
      "200\n",
      "text/html\n",
      "<Element a at 0x10c393d80> {'href': 'genindex.html', 'title': 'General Index', 'accesskey': 'I'}\n",
      "<Element a at 0x10c389940> {'href': 'py-modindex.html', 'title': 'Python Module Index'}\n",
      "<Element a at 0x109751080> {'href': 'https://www.python.org/'}\n",
      "<Element a at 0x10c393d80> {'href': '#'}\n",
      "<Element a at 0x1097510c0> {'class': 'biglink', 'href': 'whatsnew/3.9.html'}\n",
      "<Element a at 0x109751080> {'href': 'whatsnew/index.html'}\n",
      "<Element a at 0x10b2738c0> {'class': 'biglink', 'href': 'tutorial/index.html'}\n",
      "<Element a at 0x1097510c0> {'class': 'biglink', 'href': 'library/index.html'}\n",
      "<Element a at 0x10c389a40> {'class': 'biglink', 'href': 'reference/index.html'}\n",
      "<Element a at 0x109751080> {'class': 'biglink', 'href': 'using/index.html'}\n",
      "<Element a at 0x10b2738c0> {'class': 'biglink', 'href': 'howto/index.html'}\n",
      "<Element a at 0x1097510c0> {'class': 'biglink', 'href': 'installing/index.html'}\n",
      "<Element a at 0x10c393d80> {'class': 'biglink', 'href': 'distributing/index.html'}\n",
      "<Element a at 0x10c3f01c0> {'class': 'biglink', 'href': 'extending/index.html'}\n",
      "<Element a at 0x10c403680> {'class': 'biglink', 'href': 'c-api/index.html'}\n",
      "<Element a at 0x10c4037c0> {'class': 'biglink', 'href': 'faq/index.html'}\n",
      "<Element a at 0x10c403900> {'class': 'biglink', 'href': 'py-modindex.html'}\n",
      "<Element a at 0x10c403ac0> {'class': 'biglink', 'href': 'genindex.html'}\n",
      "<Element a at 0x10c403c00> {'class': 'biglink', 'href': 'glossary.html'}\n",
      "<Element a at 0x10c403d40> {'class': 'biglink', 'href': 'search.html'}\n",
      "<Element a at 0x10c403e40> {'class': 'biglink', 'href': 'contents.html'}\n",
      "<Element a at 0x10c403fc0> {'class': 'biglink', 'href': 'bugs.html'}\n",
      "<Element a at 0x10c413100> {'class': 'biglink', 'href': 'https://devguide.python.org/docquality/#helping-with-documentation'}\n",
      "<Element a at 0x10c413240> {'class': 'biglink', 'href': 'about.html'}\n",
      "<Element a at 0x10c4133c0> {'class': 'biglink', 'href': 'license.html'}\n",
      "<Element a at 0x10c413500> {'class': 'biglink', 'href': 'copyright.html'}\n",
      "<Element a at 0x10c413600> {'href': 'download.html'}\n",
      "<Element a at 0x10c413740> {'href': 'https://docs.python.org/3.10/'}\n",
      "<Element a at 0x10c413940> {'href': 'https://docs.python.org/3.9/'}\n",
      "<Element a at 0x10c413a40> {'href': 'https://docs.python.org/3.8/'}\n",
      "<Element a at 0x10c413c00> {'href': 'https://docs.python.org/3.7/'}\n",
      "<Element a at 0x10c413bc0> {'href': 'https://docs.python.org/3.6/'}\n",
      "<Element a at 0x10c413a40> {'href': 'https://docs.python.org/3.5/'}\n",
      "<Element a at 0x10c413c00> {'href': 'https://docs.python.org/2.7/'}\n",
      "<Element a at 0x10c413bc0> {'href': 'https://www.python.org/doc/versions/'}\n",
      "<Element a at 0x10c413a40> {'href': 'https://www.python.org/dev/peps/'}\n",
      "<Element a at 0x10c413c00> {'href': 'https://wiki.python.org/moin/BeginnersGuide'}\n",
      "<Element a at 0x10c413bc0> {'href': 'https://wiki.python.org/moin/PythonBooks'}\n",
      "<Element a at 0x10c413a40> {'href': 'https://www.python.org/doc/av/'}\n",
      "<Element a at 0x10c413c00> {'href': 'https://devguide.python.org/'}\n",
      "<Element a at 0x10c413bc0> {'href': 'genindex.html', 'title': 'General Index'}\n",
      "<Element a at 0x10c413a40> {'href': 'py-modindex.html', 'title': 'Python Module Index'}\n",
      "<Element a at 0x10c413fc0> {'href': 'https://www.python.org/'}\n",
      "<Element a at 0x10c413f40> {'href': '#'}\n",
      "<Element a at 0x10c413f80> {'href': 'copyright.html'}\n",
      "<Element a at 0x10c413a40> {'href': 'https://www.python.org/psf/donations/'}\n",
      "<Element a at 0x10c413f00> {'href': 'https://docs.python.org/3/bugs.html'}\n",
      "<Element a at 0x10c413fc0> {'href': 'https://www.sphinx-doc.org/'}\n"
     ]
    }
   ],
   "source": [
    "from lxml import etree\n",
    "import requests\n",
    "\n",
    "res = requests.get(\"https://docs.python.org/3/\")\n",
    "print(res.status_code)\n",
    "print(res.headers[\"Content-Type\"])\n",
    "\n",
    "parser = etree.HTMLParser()\n",
    "root = etree.fromstring(res.text, parser)\n",
    "\n",
    "for element in root.iter(\"a\"):\n",
    "    print(element, element.attrib)"
   ]
  }
 ],
 "metadata": {
  "kernelspec": {
   "display_name": "Python 3",
   "language": "python",
   "name": "python3"
  },
  "language_info": {
   "codemirror_mode": {
    "name": "ipython",
    "version": 3
   },
   "file_extension": ".py",
   "mimetype": "text/x-python",
   "name": "python",
   "nbconvert_exporter": "python",
   "pygments_lexer": "ipython3",
   "version": "3.8.0"
  }
 },
 "nbformat": 4,
 "nbformat_minor": 4
}
