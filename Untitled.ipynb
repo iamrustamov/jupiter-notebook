{
 "cells": [
  {
   "cell_type": "code",
   "execution_count": 42,
   "metadata": {},
   "outputs": [
    {
     "name": "stdout",
     "output_type": "stream",
     "text": [
      "True\n",
      "False\n"
     ]
    }
   ],
   "source": [
    "#  проверяем вхождение одной строки в другую\n",
    "\n",
    "print(\"abc\" in \"abcba\")  # True\n",
    "print(\"abce\" in \"abcba\")  # False"
   ]
  },
  {
   "cell_type": "code",
   "execution_count": 43,
   "metadata": {},
   "outputs": [
    {
     "name": "stdout",
     "output_type": "stream",
     "text": [
      "1\n",
      "-1\n"
     ]
    }
   ],
   "source": [
    "\"\"\"\n",
    "Метод find возвращает наименьший индекс, по которому обнаруживается начало указанной подстроки в исходной.\n",
    "\n",
    "str.find(sub[, start[, end]]) -> int\n",
    "\n",
    "sub : Подстрока, начальный индекс размещения которой требуется определить.\n",
    "start=0 : Индекс начала среза в исходной строке, в котором требуется отыскать подстроку.\n",
    "end=None : Индекс конца среза в исходной строке, в котором требуется отыскать подстроку.\n",
    "\n",
    "Если подстрока не найдена, возвращает -1.\n",
    "\"\"\"\n",
    "\n",
    "print(\"cabcd\".find(\"abc\"))  # получаем индекс 1\n",
    "print(\"cabcd\".find(\"aec\"))  # получаем -1, ибо строка не была найдена"
   ]
  },
  {
   "cell_type": "code",
   "execution_count": 44,
   "metadata": {},
   "outputs": [
    {
     "name": "stdout",
     "output_type": "stream",
     "text": [
      "S.find(sub[, start[, end]]) -> int\n",
      "\n",
      "Return the lowest index in S where substring sub is found,\n",
      "such that sub is contained within S[start:end].  Optional\n",
      "arguments start and end are interpreted as in slice notation.\n",
      "\n",
      "Return -1 on failure.\n"
     ]
    }
   ],
   "source": [
    "\"\"\"\n",
    "Вызов документации для метода find\n",
    "\"\"\"\n",
    "\n",
    "print(str.find.__doc__)"
   ]
  },
  {
   "cell_type": "code",
   "execution_count": 45,
   "metadata": {},
   "outputs": [
    {
     "name": "stdout",
     "output_type": "stream",
     "text": [
      "1\n"
     ]
    },
    {
     "ename": "ValueError",
     "evalue": "substring not found",
     "output_type": "error",
     "traceback": [
      "\u001b[0;31m---------------------------------------------------------------------------\u001b[0m",
      "\u001b[0;31mValueError\u001b[0m                                Traceback (most recent call last)",
      "\u001b[0;32m<ipython-input-45-47b49b9e99bd>\u001b[0m in \u001b[0;36m<module>\u001b[0;34m\u001b[0m\n\u001b[1;32m     12\u001b[0m \u001b[0;34m\u001b[0m\u001b[0m\n\u001b[1;32m     13\u001b[0m \u001b[0mprint\u001b[0m\u001b[0;34m(\u001b[0m\u001b[0;34m\"cabcd\"\u001b[0m\u001b[0;34m.\u001b[0m\u001b[0mindex\u001b[0m\u001b[0;34m(\u001b[0m\u001b[0;34m\"abc\"\u001b[0m\u001b[0;34m)\u001b[0m\u001b[0;34m)\u001b[0m \u001b[0;31m#  получаем 1\u001b[0m\u001b[0;34m\u001b[0m\u001b[0;34m\u001b[0m\u001b[0m\n\u001b[0;32m---> 14\u001b[0;31m \u001b[0mprint\u001b[0m\u001b[0;34m(\u001b[0m\u001b[0;34m\"cabcd\"\u001b[0m\u001b[0;34m.\u001b[0m\u001b[0mindex\u001b[0m\u001b[0;34m(\u001b[0m\u001b[0;34m\"aec\"\u001b[0m\u001b[0;34m)\u001b[0m\u001b[0;34m)\u001b[0m \u001b[0;31m#  получаем ValueError\u001b[0m\u001b[0;34m\u001b[0m\u001b[0;34m\u001b[0m\u001b[0m\n\u001b[0m",
      "\u001b[0;31mValueError\u001b[0m: substring not found"
     ]
    }
   ],
   "source": [
    "\"\"\"\n",
    "Метод index возвращает наименьший индекс, по которому обнаруживается начало указанной подстроки в исходной.\n",
    "\n",
    "str.index(sub[, start[, end]]) -> int\n",
    "\n",
    "sub : Подстрока, начальный индекс размещения которой требуется определить.\n",
    "start=0 : Индекс начала среза в исходной строке, в котором требуется отыскать подстроку.\n",
    "end=None : Индекс конца среза в исходной строке, в котором требуется отыскать подстроку.\n",
    "\n",
    "Работа данного метода аналогична работе str.find(), однако, если подстрока не найдена, возбуждается исключение ValueError.\n",
    "\"\"\"\n",
    "\n",
    "print(\"cabcd\".index(\"abc\")) #  получаем 1\n",
    "print(\"cabcd\".index(\"aec\")) #  получаем ValueError"
   ]
  },
  {
   "cell_type": "code",
   "execution_count": 46,
   "metadata": {
    "scrolled": true
   },
   "outputs": [
    {
     "name": "stdout",
     "output_type": "stream",
     "text": [
      "False\n",
      "True\n",
      "True\n",
      "True\n",
      "True\n"
     ]
    }
   ],
   "source": [
    "\"\"\"\n",
    "Метод startswish возвращает флаг, указывающий на то, начинается ли строка с указанного префикса.\n",
    "\n",
    "str.startswith(prefix[, start[, end]]) -> bool\n",
    "\n",
    "prefix : Строка-префикс ( 2.5 либо кортеж строк), в наличии которой требуется удостовериться.\n",
    "start : Позиция (индекс символа), с которой следует начать поиск. Поддерживает отрицательные значения.\n",
    "end : Позиция (индекс символа), на которой следует завершить поиск. Поддерживает отрицательные значения.\n",
    "\"\"\"\n",
    "\n",
    "my_str = 'Discworld'\n",
    "print(my_str.startswith('Mad'))  # False\n",
    "print(my_str.startswith('Disc'))  # True\n",
    "print(my_str.startswith(('Disc', 'Mad')))  # True\n",
    "print(my_str.startswith('world', 4, 9))  # True\n",
    "\n",
    "s = \"The dog in black fled across the desert, and the gunslinger followed\"\n",
    "print(s.startswith((\"The woman\", \"The dog\", \"The man is black\")))  # множественная проверка"
   ]
  },
  {
   "cell_type": "code",
   "execution_count": 47,
   "metadata": {},
   "outputs": [
    {
     "name": "stdout",
     "output_type": "stream",
     "text": [
      "False\n",
      "True\n",
      "True\n",
      "True\n",
      "True\n"
     ]
    }
   ],
   "source": [
    "\"\"\"\n",
    "Метод endswith возвращает флаг, указывающий на то, заканчивается ли строка указанным постфиксом.\n",
    "\n",
    "str.endswith(suffix[, start[, end]]) -> bool\n",
    "\n",
    "suffix : Строка-постфикс ( 2.5 либо кортеж строк), в наличии которой требуется удостовериться.\n",
    "start : Позиция (индекс символа), с которой следует начать поиск. Поддерживает отрицательные значения.\n",
    "end : Позиция (индекс символа), на которой следует завершить поиск. Поддерживает отрицательные значения.\n",
    "\"\"\"\n",
    "\n",
    "my_str = 'Discworld'\n",
    "print(my_str.endswith('jockey'))  # False\n",
    "print(my_str.endswith('world'))  # True\n",
    "print(my_str.endswith(('jockey', 'world')))  # True\n",
    "print(my_str.endswith('Disc', 0, 4))  # True\n",
    "\n",
    "s = \"image.png\"\n",
    "print(s.endswith('.png'))  # True"
   ]
  },
  {
   "cell_type": "code",
   "execution_count": 48,
   "metadata": {},
   "outputs": [
    {
     "name": "stdout",
     "output_type": "stream",
     "text": [
      "1\n",
      "2\n",
      "2\n",
      "1\n",
      "0\n",
      "1\n"
     ]
    }
   ],
   "source": [
    "\"\"\"\n",
    "Метод count для строки возвращает количество непересекающихся вхождений в неё указанной подстроки.\n",
    "\n",
    "str.count(sub[, start[, end]]) -> int\n",
    "\n",
    "sub : Подстрока, количество вхождений которой следует вычислить.\n",
    "start=0 : Позиция в строке, с которой следует начать вычислять количество вхождений подстроки.\n",
    "end=None : Позиция в строке, на которой следует завершить вычислять количество вхождений подстроки.\n",
    "\"\"\"\n",
    "\n",
    "my_str = 'подстрока из строк'\n",
    "print(my_str.count('строка'))  # 1\n",
    "print(my_str.count('стр'))  # 2\n",
    "print(my_str.count('стр', 0, -1))  # 2\n",
    "print(my_str.count('стр', 8))  # 1\n",
    "print(my_str.count('стр', 1, 5))  # 0\n",
    "print(my_str.count('стр', 1, 6))  # 1"
   ]
  },
  {
   "cell_type": "code",
   "execution_count": 49,
   "metadata": {},
   "outputs": [
    {
     "name": "stdout",
     "output_type": "stream",
     "text": [
      "0\n",
      "3\n",
      "-1\n"
     ]
    }
   ],
   "source": [
    "\"\"\"\n",
    "Метод find возвращает наименьший индекс, по которому обнаруживается начало указанной подстроки в исходной.\n",
    "\n",
    "str.find(sub[, start[, end]]) -> int\n",
    "\n",
    "sub : Подстрока, начальный индекс размещения которой требуется определить.\n",
    "start=0 : Индекс начала среза в исходной строке, в котором требуется отыскать подстроку.\n",
    "end=None : Индекс конца среза в исходной строке, в котором требуется отыскать подстроку.\n",
    "\n",
    "Если подстрока не найдена, возвращает -1.\n",
    "\n",
    "Метод должен использоваться только в случае необходимости найти индекс начала подстроки. \n",
    "Для обычного определения вхождения подстроки используйте оператор in\n",
    "\"\"\"\n",
    "\n",
    "my_str = 'barbarian'\n",
    "print(my_str.find('bar'))  # 0\n",
    "print(my_str.find('bar', 1))  # 3\n",
    "print(my_str.find('bar', 1, 2))  # -1"
   ]
  },
  {
   "cell_type": "code",
   "execution_count": 50,
   "metadata": {},
   "outputs": [
    {
     "name": "stdout",
     "output_type": "stream",
     "text": [
      "3\n",
      "3\n",
      "-1\n"
     ]
    }
   ],
   "source": [
    "\"\"\"\n",
    "Метод rfind возвращает наибольший индекс, по которому обнаруживается конец указанной подстроки в исходной.\n",
    "\n",
    "str.rfind(sub[, start[, end]]) -> int\n",
    "\n",
    "sub : Подстрока, конечный индекс размещения которой требуется определить.\n",
    "start=0 : Индекс начала среза в исходной строке, в котором требуется отыскать подстроку.\n",
    "end=None : Индекс конца среза в исходной строке, в котором требуется отыскать подстроку.\n",
    "\n",
    "Если подстрока не найдена, возвращает -1.\n",
    "Поиск подстроки производится справа налево (отсюда и префикс r в названии метода rfind)\n",
    "\"\"\"\n",
    "\n",
    "my_str = 'barbarian'\n",
    "print(my_str.rfind('bar'))  # 3\n",
    "print(my_str.rfind('bar', 1))  # 3\n",
    "print(my_str.rfind('bar', 1, 2))  # -1"
   ]
  },
  {
   "cell_type": "code",
   "execution_count": null,
   "metadata": {},
   "outputs": [],
   "source": []
  },
  {
   "cell_type": "code",
   "execution_count": null,
   "metadata": {},
   "outputs": [],
   "source": []
  },
  {
   "cell_type": "code",
   "execution_count": null,
   "metadata": {},
   "outputs": [],
   "source": []
  }
 ],
 "metadata": {
  "kernelspec": {
   "display_name": "Python 3",
   "language": "python",
   "name": "python3"
  },
  "language_info": {
   "codemirror_mode": {
    "name": "ipython",
    "version": 3
   },
   "file_extension": ".py",
   "mimetype": "text/x-python",
   "name": "python",
   "nbconvert_exporter": "python",
   "pygments_lexer": "ipython3",
   "version": "3.8.5"
  }
 },
 "nbformat": 4,
 "nbformat_minor": 4
}
