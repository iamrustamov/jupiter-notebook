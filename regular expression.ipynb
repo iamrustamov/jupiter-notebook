{
 "cells": [
  {
   "cell_type": "code",
   "execution_count": 2,
   "metadata": {},
   "outputs": [],
   "source": [
    "import re"
   ]
  },
  {
   "cell_type": "code",
   "execution_count": 2,
   "metadata": {},
   "outputs": [
    {
     "name": "stdout",
     "output_type": "stream",
     "text": [
      "<function match at 0x10178fca0>\n",
      "<function search at 0x101830af0>\n",
      "<function findall at 0x101830d30>\n",
      "<function sub at 0x101830b80>\n"
     ]
    }
   ],
   "source": [
    "print(re.match)\n",
    "print(re.search)\n",
    "print(re.findall)\n",
    "print(re.sub)\n"
   ]
  },
  {
   "cell_type": "code",
   "execution_count": 7,
   "metadata": {},
   "outputs": [
    {
     "name": "stdout",
     "output_type": "stream",
     "text": [
      "<re.Match object; span=(0, 3), match='abc'>\n"
     ]
    }
   ],
   "source": [
    "pattern = r\"abc\"\n",
    "string = \"abc\"\n",
    "match_object = re.match(pattern, string)\n",
    "print(match_object)"
   ]
  },
  {
   "cell_type": "code",
   "execution_count": 10,
   "metadata": {},
   "outputs": [
    {
     "name": "stdout",
     "output_type": "stream",
     "text": [
      "None\n"
     ]
    }
   ],
   "source": [
    "pattern = r\"abc\"\n",
    "string = \"babc\"\n",
    "match_object = re.match(pattern, string)\n",
    "print(match_object)"
   ]
  },
  {
   "cell_type": "code",
   "execution_count": 14,
   "metadata": {},
   "outputs": [
    {
     "name": "stdout",
     "output_type": "stream",
     "text": [
      "<re.Match object; span=(1, 4), match='abc'>\n"
     ]
    }
   ],
   "source": [
    "pattern = r\"abc\"\n",
    "string = \"babc\"\n",
    "match_object = re.search(pattern, string)\n",
    "print(match_object)"
   ]
  },
  {
   "cell_type": "code",
   "execution_count": 19,
   "metadata": {},
   "outputs": [
    {
     "name": "stdout",
     "output_type": "stream",
     "text": [
      "<re.Match object; span=(0, 3), match='abc'>\n",
      "<re.Match object; span=(0, 3), match='acc'>\n"
     ]
    }
   ],
   "source": [
    "# [] -- можно указать множество подходящих символов\n",
    "\n",
    "pattern = r\"a[abc]c\"\n",
    "string = \"abc\"\n",
    "match_object = re.match(pattern, string)\n",
    "print(match_object)\n",
    "\n",
    "string = \"acc\"\n",
    "match_object = re.match(pattern, string)\n",
    "print(match_object)"
   ]
  },
  {
   "cell_type": "code",
   "execution_count": 22,
   "metadata": {},
   "outputs": [
    {
     "name": "stdout",
     "output_type": "stream",
     "text": [
      "['abc', 'acc', 'aac']\n"
     ]
    }
   ],
   "source": [
    "pattern = r\"a[abc]c\"\n",
    "string = \"abc, acc, aac\"\n",
    "all_inclusions = re.findall(pattern, string)\n",
    "print(all_inclusions)"
   ]
  },
  {
   "cell_type": "code",
   "execution_count": 24,
   "metadata": {},
   "outputs": [
    {
     "name": "stdout",
     "output_type": "stream",
     "text": [
      "abc, abc, abc\n"
     ]
    }
   ],
   "source": [
    "fixed_typos = re.sub(pattern, 'abc', string)\n",
    "print(fixed_typos)"
   ]
  },
  {
   "cell_type": "code",
   "execution_count": 27,
   "metadata": {},
   "outputs": [
    {
     "name": "stdout",
     "output_type": "stream",
     "text": [
      "<re.Match object; span=(0, 3), match='acc'>\n",
      "['abc', 'acc', 'aac', 'adc', 'aBc', 'azc']\n"
     ]
    }
   ],
   "source": [
    "# метасимволы которые нужно экранировать\n",
    "# . ^ $ * + ? { } [ ] \\ | ( )\n",
    "\n",
    "pattern = r\"a[a-zA-Z]c\"  # выделили диапазон всех букв\n",
    "string = \"acc\"\n",
    "match_object = re.match(pattern, string)\n",
    "print(match_object)\n",
    "\n",
    "string = \"abc, acc, aac, adc, aBc, azc\"\n",
    "all_inclusions = re.findall(pattern, string)\n",
    "print(all_inclusions)"
   ]
  },
  {
   "cell_type": "code",
   "execution_count": 29,
   "metadata": {},
   "outputs": [
    {
     "name": "stdout",
     "output_type": "stream",
     "text": [
      "<re.Match object; span=(0, 3), match='a-c'>\n",
      "['a.c', 'a\\\\c']\n"
     ]
    }
   ],
   "source": [
    "#. ^ - Циркумфлекс\n",
    "\n",
    "pattern = r\"a[^a-zA-Z]c\"  # множество символов которые нам не подходят\n",
    "string = \"a-c\"\n",
    "match_object = re.match(pattern, string)\n",
    "print(match_object)\n",
    "\n",
    "string = \"a.c, a\\c, aac, adc, aBc, azc\"\n",
    "all_inclusions = re.findall(pattern, string)\n",
    "print(all_inclusions)"
   ]
  },
  {
   "cell_type": "code",
   "execution_count": 34,
   "metadata": {},
   "outputs": [
    {
     "name": "stdout",
     "output_type": "stream",
     "text": [
      "<re.Match object; span=(0, 3), match='acc'>\n",
      "['aac', 'adc', 'aBc', 'azc']\n"
     ]
    }
   ],
   "source": [
    "# \\d ~ [0-9] -- цифры\n",
    "# \\D ~ [^0-9]\n",
    "# \\s ~ [ \\t\\n\\r\\f\\v] -- пробельные символы\n",
    "# \\S ~ [^ \\t\\n\\r\\f\\v]\n",
    "# \\w ~ [a-zA-Z0-9_] -- буквы + цифры +  _\n",
    "# \\W ~ [^a-zA-Z0-9_]\n",
    "\n",
    "pattern = r\"a\\wc\"\n",
    "string = \"acc\"\n",
    "match_object = re.match(pattern, string)\n",
    "print(match_object)\n",
    "\n",
    "string = \"a.c, a\\c, aac, adc, aBc, azc\"\n",
    "all_inclusions = re.findall(pattern, string)\n",
    "print(all_inclusions)"
   ]
  },
  {
   "cell_type": "code",
   "execution_count": 36,
   "metadata": {},
   "outputs": [
    {
     "name": "stdout",
     "output_type": "stream",
     "text": [
      "<re.Match object; span=(0, 3), match='a1c'>\n",
      "['a.c', 'a\\\\c', 'aac', 'adc', 'aBc', 'azc']\n"
     ]
    }
   ],
   "source": [
    "pattern = r\"a.c\"  # мы расматриваем a и c, и так же любой символ между ними\n",
    "string = \"a1c\"\n",
    "match_object = re.match(pattern, string)\n",
    "print(match_object)\n",
    "\n",
    "string = \"a.c, a\\c, aac, adc, aBc, azc\"\n",
    "all_inclusions = re.findall(pattern, string)\n",
    "print(all_inclusions)"
   ]
  },
  {
   "cell_type": "code",
   "execution_count": 42,
   "metadata": {},
   "outputs": [
    {
     "name": "stdout",
     "output_type": "stream",
     "text": [
      "['aa', 'aba', 'abba']\n",
      "['aba', 'abba']\n",
      "['aa', 'aba']\n",
      "['abbba']\n",
      "['abba', 'abbba']\n"
     ]
    }
   ],
   "source": [
    "pattern = r\"ab*a\"  # мы рассматриваем любое кол-во символа b между буквами a, даже ноль\n",
    "string = \"aa, aba, abba\"\n",
    "all_inclusions = re.findall(pattern, string)\n",
    "print(all_inclusions)\n",
    "\n",
    "pattern = r\"ab+a\"  # если нас интересует положительное кол-во включений\n",
    "string = \"aa, aba, abba\"\n",
    "all_inclusions = re.findall(pattern, string)\n",
    "print(all_inclusions)\n",
    "\n",
    "pattern = r\"ab?a\"  # 0 или 1 вхождение метасимвола b\n",
    "string = \"aa, aba, abba\"\n",
    "all_inclusions = re.findall(pattern, string)\n",
    "print(all_inclusions)\n",
    "\n",
    "\n",
    "pattern = r\"ab{3}a\"  # указываем какое кол-во метасимволов нас интересует\n",
    "string = \"aa, aba, abba, abbba, abbbbba\"\n",
    "all_inclusions = re.findall(pattern, string)\n",
    "print(all_inclusions)\n",
    "\n",
    "pattern = r\"ab{2,4}a\"  # указали от 2 до 4 вхождений \n",
    "string = \"aa, aba, abba, abbba, abbbbba\"\n",
    "all_inclusions = re.findall(pattern, string)\n",
    "print(all_inclusions)"
   ]
  },
  {
   "cell_type": "code",
   "execution_count": 3,
   "metadata": {},
   "outputs": [
    {
     "name": "stdout",
     "output_type": "stream",
     "text": [
      "<re.Match object; span=(0, 6), match='abaaba'>\n",
      "['abaaba']\n",
      "<re.Match object; span=(0, 3), match='aba'>\n",
      "['aba', 'aba']\n"
     ]
    }
   ],
   "source": [
    "pattern = r\"a[ab]+a\"  # пример \"жадности\" регулярных выражений \n",
    "string = \"abaaba\"\n",
    "print(re.match(pattern, string))\n",
    "print(re.findall(pattern, string))\n",
    "\n",
    "pattern = r\"a[ab]+?a\"  # \"не жадный вариант\", находим наименьшее включение \n",
    "string = \"abaaba\"\n",
    "print(re.match(pattern, string))\n",
    "print(re.findall(pattern, string))"
   ]
  },
  {
   "cell_type": "code",
   "execution_count": 10,
   "metadata": {},
   "outputs": [
    {
     "name": "stdout",
     "output_type": "stream",
     "text": [
      "<re.Match object; span=(0, 8), match='testtext'>\n"
     ]
    }
   ],
   "source": [
    "pattern = r\"(test|text)*\"  # метасимвол или\n",
    "string = \"testtext\"\n",
    "match = re.match(pattern, string)\n",
    "print(match)"
   ]
  },
  {
   "cell_type": "code",
   "execution_count": 18,
   "metadata": {},
   "outputs": [
    {
     "name": "stdout",
     "output_type": "stream",
     "text": [
      "<re.Match object; span=(0, 3), match='abc'>\n"
     ]
    }
   ],
   "source": [
    "pattern = r\"abc|(test|text)*\"  # метасимвол или\n",
    "string = \"abc\"\n",
    "match = re.match(pattern, string)\n",
    "print(match)"
   ]
  },
  {
   "cell_type": "code",
   "execution_count": 21,
   "metadata": {},
   "outputs": [
    {
     "name": "stdout",
     "output_type": "stream",
     "text": [
      "<re.Match object; span=(0, 3), match='abc'>\n",
      "('abc', 'abc', None)\n"
     ]
    }
   ],
   "source": [
    "pattern = r\"((abc)|(test|text)*)\"  # метасимвол или\n",
    "string = \"abc\"\n",
    "match = re.match(pattern, string)\n",
    "print(match)\n",
    "print(match.groups())"
   ]
  },
  {
   "cell_type": "code",
   "execution_count": 25,
   "metadata": {},
   "outputs": [
    {
     "name": "stdout",
     "output_type": "stream",
     "text": [
      "<re.Match object; span=(0, 8), match='testtext'>\n",
      "('testtext', None, 'text')\n"
     ]
    }
   ],
   "source": [
    "pattern = r\"((abc)|(test|text)*)\"  # метасимвол или\n",
    "string = \"testtext\"\n",
    "match = re.match(pattern, string)\n",
    "print(match)\n",
    "print(match.groups())"
   ]
  },
  {
   "cell_type": "code",
   "execution_count": 27,
   "metadata": {},
   "outputs": [
    {
     "name": "stdout",
     "output_type": "stream",
     "text": [
      "<re.Match object; span=(0, 12), match='testtexttest'>\n",
      "('testtexttest', None, 'test')\n"
     ]
    }
   ],
   "source": [
    "pattern = r\"((abc)|(test|text)*)\"  # метасимвол или\n",
    "string = \"testtexttest\"\n",
    "match = re.match(pattern, string)\n",
    "print(match)\n",
    "print(match.groups())"
   ]
  },
  {
   "cell_type": "code",
   "execution_count": 36,
   "metadata": {},
   "outputs": [
    {
     "name": "stdout",
     "output_type": "stream",
     "text": [
      "<re.Match object; span=(0, 9), match='Hello abc'>\n",
      "Hello abc\n",
      "abc\n"
     ]
    }
   ],
   "source": [
    "pattern = r\"Hello (abc|test)\"  # метасимвол или\n",
    "string = \"Hello abc\"\n",
    "match = re.match(pattern, string)\n",
    "print(match)\n",
    "print(match.group(0))\n",
    "print(match.group(1))"
   ]
  },
  {
   "cell_type": "code",
   "execution_count": 39,
   "metadata": {},
   "outputs": [
    {
     "name": "stdout",
     "output_type": "stream",
     "text": [
      "<re.Match object; span=(0, 9), match='test-test'>\n"
     ]
    }
   ],
   "source": [
    "pattern = r\"(\\w+)-\\1\"\n",
    "string = \"test-test\"\n",
    "match = re.match(pattern, string)\n",
    "print(match)"
   ]
  },
  {
   "cell_type": "code",
   "execution_count": 41,
   "metadata": {},
   "outputs": [
    {
     "name": "stdout",
     "output_type": "stream",
     "text": [
      "None\n"
     ]
    }
   ],
   "source": [
    "pattern = r\"(\\w+)-\\1\"\n",
    "string = \"test-text\"\n",
    "match = re.match(pattern, string)\n",
    "print(match)"
   ]
  },
  {
   "cell_type": "code",
   "execution_count": 44,
   "metadata": {},
   "outputs": [
    {
     "name": "stdout",
     "output_type": "stream",
     "text": [
      "[('test-test', 'test'), ('chow-chow', 'chow')]\n"
     ]
    }
   ],
   "source": [
    "pattern = r\"((\\w+)-\\2)\"\n",
    "string = \"test-test chow-chow\"\n",
    "duplicates = re.findall(pattern, string)\n",
    "print(duplicates)"
   ]
  },
  {
   "cell_type": "code",
   "execution_count": 49,
   "metadata": {},
   "outputs": [
    {
     "name": "stdout",
     "output_type": "stream",
     "text": [
      "<re.Match object; span=(0, 4), match='TEXT'>\n"
     ]
    }
   ],
   "source": [
    "x = re.match(r\"text\", \"TEXT\", re.IGNORECASE)\n",
    "print(x)"
   ]
  },
  {
   "cell_type": "code",
   "execution_count": 52,
   "metadata": {},
   "outputs": [
    {
     "name": "stdout",
     "output_type": "stream",
     "text": [
      "MIN_REPEAT 0 MAXREPEAT\n",
      "  SUBPATTERN 1 0 0\n",
      "    LITERAL 116\n",
      "    LITERAL 101\n",
      "LITERAL 120\n",
      "LITERAL 116\n",
      "\n",
      " 0. INFO 4 0b0 2 MAXREPEAT (to 5)\n",
      " 5: REPEAT 11 0 MAXREPEAT (to 17)\n",
      " 9.   MARK 0\n",
      "11.   LITERAL_UNI_IGNORE 0x74 ('t')\n",
      "13.   LITERAL_UNI_IGNORE 0x65 ('e')\n",
      "15.   MARK 1\n",
      "17: MIN_UNTIL\n",
      "18. LITERAL_UNI_IGNORE 0x78 ('x')\n",
      "20. LITERAL_UNI_IGNORE 0x74 ('t')\n",
      "22. SUCCESS\n",
      "<re.Match object; span=(0, 4), match='TEXT'>\n"
     ]
    }
   ],
   "source": [
    "x = re.match(r\"(te)*?xt\", \"TEXT\", re.IGNORECASE | re.DEBUG)\n",
    "print(x)"
   ]
  },
  {
   "cell_type": "code",
   "execution_count": null,
   "metadata": {},
   "outputs": [],
   "source": [
    "import sys\n",
    "\n",
    "for line in sys.stdin:\n",
    "    line = line.rstrip()\n",
    "    "
   ]
  }
 ],
 "metadata": {
  "kernelspec": {
   "display_name": "Python 3",
   "language": "python",
   "name": "python3"
  },
  "language_info": {
   "codemirror_mode": {
    "name": "ipython",
    "version": 3
   },
   "file_extension": ".py",
   "mimetype": "text/x-python",
   "name": "python",
   "nbconvert_exporter": "python",
   "pygments_lexer": "ipython3",
   "version": "3.8.6"
  }
 },
 "nbformat": 4,
 "nbformat_minor": 4
}
