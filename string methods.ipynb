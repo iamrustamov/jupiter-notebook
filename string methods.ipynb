{
 "cells": [
  {
   "cell_type": "code",
   "execution_count": 42,
   "metadata": {},
   "outputs": [
    {
     "name": "stdout",
     "output_type": "stream",
     "text": [
      "True\n",
      "False\n"
     ]
    }
   ],
   "source": [
    "\"\"\"\n",
    "Проверяем вхождение одной строки в другую\n",
    "\"\"\"\n",
    "\n",
    "print(\"abc\" in \"abcba\")  # True\n",
    "print(\"abce\" in \"abcba\")  # False\n"
   ]
  },
  {
   "cell_type": "code",
   "execution_count": 43,
   "metadata": {},
   "outputs": [
    {
     "name": "stdout",
     "output_type": "stream",
     "text": [
      "1\n",
      "-1\n"
     ]
    }
   ],
   "source": [
    "\"\"\"\n",
    "Метод find возвращает наименьший индекс, по которому обнаруживается начало указанной подстроки в исходной.\n",
    "\n",
    "str.find(sub[, start[, end]]) -> int\n",
    "\n",
    "sub : Подстрока, начальный индекс размещения которой требуется определить.\n",
    "start=0 : Индекс начала среза в исходной строке, в котором требуется отыскать подстроку.\n",
    "end=None : Индекс конца среза в исходной строке, в котором требуется отыскать подстроку.\n",
    "\n",
    "Если подстрока не найдена, возвращает -1.\n",
    "\"\"\"\n",
    "\n",
    "print(\"cabcd\".find(\"abc\"))  # получаем индекс 1\n",
    "print(\"cabcd\".find(\"aec\"))  # получаем -1, ибо строка не была найдена\n"
   ]
  },
  {
   "cell_type": "code",
   "execution_count": 44,
   "metadata": {},
   "outputs": [
    {
     "name": "stdout",
     "output_type": "stream",
     "text": [
      "S.find(sub[, start[, end]]) -> int\n",
      "\n",
      "Return the lowest index in S where substring sub is found,\n",
      "such that sub is contained within S[start:end].  Optional\n",
      "arguments start and end are interpreted as in slice notation.\n",
      "\n",
      "Return -1 on failure.\n"
     ]
    }
   ],
   "source": [
    "\"\"\"\n",
    "Вызов документации для метода find\n",
    "\"\"\"\n",
    "\n",
    "print(str.find.__doc__)\n"
   ]
  },
  {
   "cell_type": "code",
   "execution_count": 45,
   "metadata": {},
   "outputs": [
    {
     "name": "stdout",
     "output_type": "stream",
     "text": [
      "1\n"
     ]
    },
    {
     "ename": "ValueError",
     "evalue": "substring not found",
     "output_type": "error",
     "traceback": [
      "\u001b[0;31m---------------------------------------------------------------------------\u001b[0m",
      "\u001b[0;31mValueError\u001b[0m                                Traceback (most recent call last)",
      "\u001b[0;32m<ipython-input-45-47b49b9e99bd>\u001b[0m in \u001b[0;36m<module>\u001b[0;34m\u001b[0m\n\u001b[1;32m     12\u001b[0m \u001b[0;34m\u001b[0m\u001b[0m\n\u001b[1;32m     13\u001b[0m \u001b[0mprint\u001b[0m\u001b[0;34m(\u001b[0m\u001b[0;34m\"cabcd\"\u001b[0m\u001b[0;34m.\u001b[0m\u001b[0mindex\u001b[0m\u001b[0;34m(\u001b[0m\u001b[0;34m\"abc\"\u001b[0m\u001b[0;34m)\u001b[0m\u001b[0;34m)\u001b[0m \u001b[0;31m#  получаем 1\u001b[0m\u001b[0;34m\u001b[0m\u001b[0;34m\u001b[0m\u001b[0m\n\u001b[0;32m---> 14\u001b[0;31m \u001b[0mprint\u001b[0m\u001b[0;34m(\u001b[0m\u001b[0;34m\"cabcd\"\u001b[0m\u001b[0;34m.\u001b[0m\u001b[0mindex\u001b[0m\u001b[0;34m(\u001b[0m\u001b[0;34m\"aec\"\u001b[0m\u001b[0;34m)\u001b[0m\u001b[0;34m)\u001b[0m \u001b[0;31m#  получаем ValueError\u001b[0m\u001b[0;34m\u001b[0m\u001b[0;34m\u001b[0m\u001b[0m\n\u001b[0m",
      "\u001b[0;31mValueError\u001b[0m: substring not found"
     ]
    }
   ],
   "source": [
    "\"\"\"\n",
    "Метод index возвращает наименьший индекс, по которому обнаруживается начало указанной подстроки в исходной.\n",
    "\n",
    "str.index(sub[, start[, end]]) -> int\n",
    "\n",
    "sub : Подстрока, начальный индекс размещения которой требуется определить.\n",
    "start=0 : Индекс начала среза в исходной строке, в котором требуется отыскать подстроку.\n",
    "end=None : Индекс конца среза в исходной строке, в котором требуется отыскать подстроку.\n",
    "\n",
    "Работа данного метода аналогична работе str.find(), однако, если подстрока не найдена, возбуждается исключение ValueError.\n",
    "\"\"\"\n",
    "\n",
    "print(\"cabcd\".index(\"abc\")) #  получаем 1\n",
    "print(\"cabcd\".index(\"aec\")) #  получаем ValueError\n"
   ]
  },
  {
   "cell_type": "code",
   "execution_count": 46,
   "metadata": {
    "scrolled": true
   },
   "outputs": [
    {
     "name": "stdout",
     "output_type": "stream",
     "text": [
      "False\n",
      "True\n",
      "True\n",
      "True\n",
      "True\n"
     ]
    }
   ],
   "source": [
    "\"\"\"\n",
    "Метод startswish возвращает флаг, указывающий на то, начинается ли строка с указанного префикса.\n",
    "\n",
    "str.startswith(prefix[, start[, end]]) -> bool\n",
    "\n",
    "prefix : Строка-префикс ( 2.5 либо кортеж строк), в наличии которой требуется удостовериться.\n",
    "start : Позиция (индекс символа), с которой следует начать поиск. Поддерживает отрицательные значения.\n",
    "end : Позиция (индекс символа), на которой следует завершить поиск. Поддерживает отрицательные значения.\n",
    "\"\"\"\n",
    "\n",
    "my_str = 'Discworld'\n",
    "print(my_str.startswith('Mad'))  # False\n",
    "print(my_str.startswith('Disc'))  # True\n",
    "print(my_str.startswith(('Disc', 'Mad')))  # True\n",
    "print(my_str.startswith('world', 4, 9))  # True\n",
    "\n",
    "s = \"The dog in black fled across the desert, and the gunslinger followed\"\n",
    "print(s.startswith((\"The woman\", \"The dog\", \"The man is black\")))  # множественная проверка\n"
   ]
  },
  {
   "cell_type": "code",
   "execution_count": 47,
   "metadata": {},
   "outputs": [
    {
     "name": "stdout",
     "output_type": "stream",
     "text": [
      "False\n",
      "True\n",
      "True\n",
      "True\n",
      "True\n"
     ]
    }
   ],
   "source": [
    "\"\"\"\n",
    "Метод endswith возвращает флаг, указывающий на то, заканчивается ли строка указанным постфиксом.\n",
    "\n",
    "str.endswith(suffix[, start[, end]]) -> bool\n",
    "\n",
    "suffix : Строка-постфикс ( 2.5 либо кортеж строк), в наличии которой требуется удостовериться.\n",
    "start : Позиция (индекс символа), с которой следует начать поиск. Поддерживает отрицательные значения.\n",
    "end : Позиция (индекс символа), на которой следует завершить поиск. Поддерживает отрицательные значения.\n",
    "\"\"\"\n",
    "\n",
    "my_str = 'Discworld'\n",
    "print(my_str.endswith('jockey'))  # False\n",
    "print(my_str.endswith('world'))  # True\n",
    "print(my_str.endswith(('jockey', 'world')))  # True\n",
    "print(my_str.endswith('Disc', 0, 4))  # True\n",
    "\n",
    "s = \"image.png\"\n",
    "print(s.endswith('.png'))  # True\n"
   ]
  },
  {
   "cell_type": "code",
   "execution_count": 48,
   "metadata": {},
   "outputs": [
    {
     "name": "stdout",
     "output_type": "stream",
     "text": [
      "1\n",
      "2\n",
      "2\n",
      "1\n",
      "0\n",
      "1\n"
     ]
    }
   ],
   "source": [
    "\"\"\"\n",
    "Метод count для строки возвращает количество непересекающихся вхождений в неё указанной подстроки.\n",
    "\n",
    "str.count(sub[, start[, end]]) -> int\n",
    "\n",
    "sub : Подстрока, количество вхождений которой следует вычислить.\n",
    "start=0 : Позиция в строке, с которой следует начать вычислять количество вхождений подстроки.\n",
    "end=None : Позиция в строке, на которой следует завершить вычислять количество вхождений подстроки.\n",
    "\"\"\"\n",
    "\n",
    "my_str = 'подстрока из строк'\n",
    "print(my_str.count('строка'))  # 1\n",
    "print(my_str.count('стр'))  # 2\n",
    "print(my_str.count('стр', 0, -1))  # 2\n",
    "print(my_str.count('стр', 8))  # 1\n",
    "print(my_str.count('стр', 1, 5))  # 0\n",
    "print(my_str.count('стр', 1, 6))  # 1\n"
   ]
  },
  {
   "cell_type": "code",
   "execution_count": 49,
   "metadata": {},
   "outputs": [
    {
     "name": "stdout",
     "output_type": "stream",
     "text": [
      "0\n",
      "3\n",
      "-1\n"
     ]
    }
   ],
   "source": [
    "\"\"\"\n",
    "Метод find возвращает наименьший индекс, по которому обнаруживается начало указанной подстроки в исходной.\n",
    "\n",
    "str.find(sub[, start[, end]]) -> int\n",
    "\n",
    "sub : Подстрока, начальный индекс размещения которой требуется определить.\n",
    "start=0 : Индекс начала среза в исходной строке, в котором требуется отыскать подстроку.\n",
    "end=None : Индекс конца среза в исходной строке, в котором требуется отыскать подстроку.\n",
    "\n",
    "Если подстрока не найдена, возвращает -1.\n",
    "\n",
    "Метод должен использоваться только в случае необходимости найти индекс начала подстроки. \n",
    "Для обычного определения вхождения подстроки используйте оператор in\n",
    "\"\"\"\n",
    "\n",
    "my_str = 'barbarian'\n",
    "print(my_str.find('bar'))  # 0\n",
    "print(my_str.find('bar', 1))  # 3\n",
    "print(my_str.find('bar', 1, 2))  # -1\n"
   ]
  },
  {
   "cell_type": "code",
   "execution_count": 50,
   "metadata": {},
   "outputs": [
    {
     "name": "stdout",
     "output_type": "stream",
     "text": [
      "3\n",
      "3\n",
      "-1\n"
     ]
    }
   ],
   "source": [
    "\"\"\"\n",
    "Метод rfind возвращает наибольший индекс, по которому обнаруживается конец указанной подстроки в исходной.\n",
    "\n",
    "str.rfind(sub[, start[, end]]) -> int\n",
    "\n",
    "sub : Подстрока, конечный индекс размещения которой требуется определить.\n",
    "start=0 : Индекс начала среза в исходной строке, в котором требуется отыскать подстроку.\n",
    "end=None : Индекс конца среза в исходной строке, в котором требуется отыскать подстроку.\n",
    "\n",
    "Если подстрока не найдена, возвращает -1.\n",
    "Поиск подстроки производится справа налево (отсюда и префикс r в названии метода rfind)\n",
    "\"\"\"\n",
    "\n",
    "my_str = 'barbarian'\n",
    "print(my_str.rfind('bar'))  # 3\n",
    "print(my_str.rfind('bar', 1))  # 3\n",
    "print(my_str.rfind('bar', 1, 2))  # -1\n"
   ]
  },
  {
   "cell_type": "code",
   "execution_count": 1,
   "metadata": {},
   "outputs": [
    {
     "data": {
      "text/plain": [
       "'some слонов'"
      ]
     },
     "execution_count": 1,
     "metadata": {},
     "output_type": "execute_result"
    }
   ],
   "source": [
    "\"\"\"\n",
    "Метод lower возвращает копию исходной строки с символами приведёнными к нижнему регистру.\n",
    "\n",
    "str.lower() -> str\n",
    "\n",
    "Python 3: Алгоритм приведения к нижнему регистру описан в параграфе 3.13 стандарта Unicode.\n",
    "\n",
    "Python 2: Для строк с 8-битами на символ (юникод) работа метода зависит от текущей локали.\n",
    "\n",
    "\"\"\"\n",
    "\n",
    "'SoMe СлОнов'.lower()  # some слонов\n"
   ]
  },
  {
   "cell_type": "code",
   "execution_count": null,
   "metadata": {},
   "outputs": [],
   "source": [
    "\"\"\"\n",
    "Метод lower возвращает копию исходной строки с символами приведёнными к верхнему регистру.\n",
    "\n",
    "str.upper() -> str\n",
    "\n",
    "Python 3: Алгоритм приведения к верхнему регистру описан в параграфе 3.13 стандарта Unicode.\n",
    "\n",
    "Python 2: Для строк с 8-битами на символ (юникод) работа метода зависит от текущей локали.\n",
    "\n",
    "\"\"\"\n",
    "\n",
    "'SoMe СлОнов'.upper()  # SOME СЛОНОВ\n"
   ]
  },
  {
   "cell_type": "code",
   "execution_count": 2,
   "metadata": {},
   "outputs": [
    {
     "name": "stdout",
     "output_type": "stream",
     "text": [
      "barbarian\n",
      "murmurian\n",
      "burmurian\n"
     ]
    }
   ],
   "source": [
    "\"\"\"\n",
    "Метод replace возвращает копию строки, в которой заменены все вхождения указанной строки указанным значением.\n",
    "\n",
    "str.replace(old, new[, maxcount]) -> str\n",
    "\n",
    "old : Искомая подстрока, которую следует заменить.\n",
    "new : Подстрока, на которую следует заменить искомую.\n",
    "maxcount=None : Максимальное требуемое количество замен. Если не указано, будут заменены все вхождения искомой строки.\n",
    "\"\"\"\n",
    "\n",
    "my_str = 'barbarian'\n",
    "print(my_str)\n",
    "my_str = my_str.replace('bar', 'mur')  # 'murmurian'\n",
    "print(my_str)\n",
    "my_str = my_str.replace('mur', 'bur', 1)  # 'burmurian'\n",
    "print(my_str)\n"
   ]
  },
  {
   "cell_type": "code",
   "execution_count": 8,
   "metadata": {},
   "outputs": [
    {
     "name": "stdout",
     "output_type": "stream",
     "text": [
      "['1', '2', '3']\n",
      "['1', '2,3']\n",
      "['1', '2', '', '3', '']\n",
      "['1', '2', '3']\n",
      "['1', '2 3']\n",
      "['1', '2', '3']\n"
     ]
    }
   ],
   "source": [
    "\"\"\"\n",
    "Метод split разбивает строку на части, используя разделитель, и возвращает эти части списком. \n",
    "Направление разбиения: слева направо.\n",
    "\n",
    "str.split(sep[, maxsplit]) -> list\n",
    "\n",
    "sep=None : Строка-разделитель, при помощи которой требуется разбить исходную строку. \n",
    "Может содержать как один, так и несколько символов. Если не указан, то используется \n",
    "специальный алгоритм разбиения, для которого разделителем считается последовательность пробельных символов.\n",
    "maxsplit=-1 : Максимальное количество разбиений, которое требуется выполнить. Если -1, то количество разбиений не ограничено.\n",
    "\"\"\"\n",
    "# Если указан разделитель, разбиение пустой строки вернёт список с единственным элементом — пустой строкой: [''].\n",
    "\n",
    "print('1,2,3'.split(','))  # ['1', '2', '3']\n",
    "print('1,2,3'.split(',', maxsplit=1))  # ['1', '2,3']\n",
    "    \n",
    "print('1,2,,3,'.split(','))   # ['1', '2', '', '3', ''] \n",
    "# сравните с '1 2   3'.split()\n",
    "\n",
    "# Если разделитель не указан, разбиение пустой строки вернёт пустой список: [].\n",
    "\n",
    "print('1 2 3'.split())  # ['1', '2', '3']\n",
    "print('1 2 3'.split(maxsplit=1))  # ['1', '2 3']\n",
    "\n",
    "print('   1   2   3   '.split())  # ['1', '2', '3']  \n",
    "# сравните с '1,2,,3,'.split(',')\n"
   ]
  },
  {
   "cell_type": "code",
   "execution_count": 10,
   "metadata": {},
   "outputs": [
    {
     "data": {
      "text/plain": [
       "'b'"
      ]
     },
     "execution_count": 10,
     "metadata": {},
     "output_type": "execute_result"
    }
   ],
   "source": [
    "\"\"\"\n",
    "Метод strip возвращает копию указанной строки, с обоих концов которой устранены указанные символы.\n",
    "\n",
    "str.strip([chars]) -> str\n",
    "\n",
    "chars=None : Строка с символами, которые требуется устранить. \n",
    "Если не указана, будут устранены пробельные символы. Это не префикс и не суффикс, это перечисление нужных символов.\n",
    "\"\"\"\n",
    "\n",
    "'abca'.strip('ac')  # 'b'\n"
   ]
  },
  {
   "cell_type": "code",
   "execution_count": 17,
   "metadata": {},
   "outputs": [
    {
     "data": {
      "text/plain": [
       "'ab'"
      ]
     },
     "execution_count": 17,
     "metadata": {},
     "output_type": "execute_result"
    }
   ],
   "source": [
    "\"\"\"\n",
    "Метод rstrip возвращает копию указанной строки, с конца которой устранены указанные символы.\n",
    "\n",
    "str.rstrip([chars]) -> str\n",
    "\n",
    "chars=None : Строка с символами, которые требуется устранить. \n",
    "Если не указана, будут устранены пробельные символы. Это не префикс и не суффикс, это перечисление нужных символов.\n",
    "\n",
    "\"\"\"\n",
    "\n",
    "'abca'.rstrip('ca')  # 'ab'\n"
   ]
  },
  {
   "cell_type": "code",
   "execution_count": 18,
   "metadata": {},
   "outputs": [
    {
     "data": {
      "text/plain": [
       "'bca'"
      ]
     },
     "execution_count": 18,
     "metadata": {},
     "output_type": "execute_result"
    }
   ],
   "source": [
    "\"\"\"\n",
    "Метод lstrip возвращает копию указанной строки, с начала (слева l — left) которой устранены указанные символы.\n",
    "\n",
    "str.lstrip([chars]) -> str\n",
    "\n",
    "chars=None : Строка с символами, которые требуется устранить.\n",
    "Если не указана, будут устранены пробельные символы. Это не префикс и не суффикс, это перечисление нужных символов.\n",
    "\"\"\"\n",
    "\n",
    "'abca'.lstrip('ac')  # 'bca'"
   ]
  },
  {
   "cell_type": "code",
   "execution_count": 21,
   "metadata": {},
   "outputs": [
    {
     "name": "stdout",
     "output_type": "stream",
     "text": [
      "1..2\n",
      "a..b\n"
     ]
    }
   ],
   "source": [
    "\"\"\"\n",
    "Метод join возвращает строку, собранную из элементов указанного объекта, поддерживающего итерирование.\n",
    "\n",
    "str.join(iterable) -> str\n",
    "\n",
    "iterable : Объект со строками, поддерживающий итерирование.\n",
    "\n",
    "В качестве соединительного элемента между указанными элементами используется объект строки, \n",
    "у которого и вызывается данный метод.\n",
    "\n",
    "Внимание\n",
    "Ожидается, что итерируемый объект выдаёт строки. \n",
    "Для массового приведения к строке можно воспользоваться функцией \n",
    "map(): dots.join(map(str, [100, 200])) # '100..200'\n",
    "\"\"\"\n",
    "\n",
    "dots = '..'\n",
    "my_str = dots.join(['1', '2'])  # '1..2'\n",
    "print(my_str)\n",
    "my_str = dots.join('ab')  # 'a..b'\n",
    "print(my_str)\n"
   ]
  },
  {
   "cell_type": "code",
   "execution_count": 25,
   "metadata": {},
   "outputs": [
    {
     "name": "stdout",
     "output_type": "stream",
     "text": [
      "London is the capital of Great Britain\n",
      "Vaduz is the capital of Liechtenstein\n",
      "Great Britain is the capital of London\n",
      "Liechtenstein is the capital of Vaduz\n",
      "London is the capital of Great Britain\n",
      "Liechtenstein is the capital of Vaduz\n"
     ]
    }
   ],
   "source": [
    "\"\"\"\n",
    "Форматирование строк.\n",
    "\"\"\"\n",
    "\n",
    "capital = 'London is the capital of Great Britain'\n",
    "\n",
    "# порядковое форматирование\n",
    "\n",
    "tamplate = '{} is the capital of {}'\n",
    "\n",
    "print(tamplate.format(\"London\", \"Great Britain\"))\n",
    "print(tamplate.format(\"Vaduz\", \"Liechtenstein\"))\n",
    "\n",
    "# с указанием явного порядка\n",
    "\n",
    "tamplate = '{1} is the capital of {0}'\n",
    "\n",
    "print(tamplate.format(\"London\", \"Great Britain\"))\n",
    "print(tamplate.format(\"Vaduz\", \"Liechtenstein\"))\n",
    "\n",
    "# использоване именованных аргументов\n",
    "\n",
    "tamplate = '{capital} is the capital of {country}'\n",
    "\n",
    "print(tamplate.format(capital=\"London\", country=\"Great Britain\"))\n",
    "print(tamplate.format(country=\"Vaduz\", capital=\"Liechtenstein\"))\n"
   ]
  },
  {
   "cell_type": "code",
   "execution_count": 30,
   "metadata": {},
   "outputs": [
    {
     "name": "stdout",
     "output_type": "stream",
     "text": [
      "Response from https://docs.python.org/3.5/ with code 200\n",
      "Response from https://docs.python.org/3.5/random with code 404\n"
     ]
    }
   ],
   "source": [
    "import requests\n",
    "tamplate = \"Response from {0.url} with code {0.status_code}\"\n",
    "\n",
    "res = requests.get(\"https://docs.python.org/3.5/\")\n",
    "print(tamplate.format(res))\n",
    "\n",
    "res = requests.get(\"https://docs.python.org/3.5/random\")\n",
    "print(tamplate.format(res))\n"
   ]
  },
  {
   "cell_type": "code",
   "execution_count": 69,
   "metadata": {},
   "outputs": [
    {
     "name": "stdout",
     "output_type": "stream",
     "text": [
      "0.2338398965193268\n",
      "0.234\n"
     ]
    }
   ],
   "source": [
    "from random import random\n",
    "\n",
    "x = random()\n",
    "print(x)\n",
    "print(\"{:.3}\".format(x))\n"
   ]
  },
  {
   "cell_type": "code",
   "execution_count": null,
   "metadata": {},
   "outputs": [],
   "source": []
  },
  {
   "cell_type": "code",
   "execution_count": null,
   "metadata": {},
   "outputs": [],
   "source": []
  }
 ],
 "metadata": {
  "kernelspec": {
   "display_name": "Python 3",
   "language": "python",
   "name": "python3"
  },
  "language_info": {
   "codemirror_mode": {
    "name": "ipython",
    "version": 3
   },
   "file_extension": ".py",
   "mimetype": "text/x-python",
   "name": "python",
   "nbconvert_exporter": "python",
   "pygments_lexer": "ipython3",
   "version": "3.8.0"
  }
 },
 "nbformat": 4,
 "nbformat_minor": 4
}
