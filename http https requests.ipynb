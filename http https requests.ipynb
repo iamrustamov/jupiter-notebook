{
 "cells": [
  {
   "cell_type": "code",
   "execution_count": 3,
   "metadata": {},
   "outputs": [],
   "source": [
    "import requests as req"
   ]
  },
  {
   "cell_type": "code",
   "execution_count": 7,
   "metadata": {},
   "outputs": [],
   "source": [
    "res = req.get(\"https://docs.python.org/3.5/\")"
   ]
  },
  {
   "cell_type": "code",
   "execution_count": 12,
   "metadata": {},
   "outputs": [
    {
     "name": "stdout",
     "output_type": "stream",
     "text": [
      "200\n",
      "text/html\n"
     ]
    }
   ],
   "source": [
    "print(res.status_code)  # получение кода ответа\n",
    "print(res.headers['Content-Type'])"
   ]
  },
  {
   "cell_type": "code",
   "execution_count": 15,
   "metadata": {},
   "outputs": [
    {
     "name": "stdout",
     "output_type": "stream",
     "text": [
      "b'\\n<!DOCTYPE html PUBLIC \"-//W3C//DTD XHTML 1.0 Transitional//EN\"\\n  \"http://www.w3.org/TR/xhtml1/DTD/xhtml1-transitional.dtd\">\\n\\n<html xmlns=\"http://www.w3.org/1999/xhtml\">\\n  <head>\\n    <meta http-equiv=\"X-UA-Compatible\" content=\"IE=Edge\" />\\n    <meta http-equiv=\"Content-Type\" content=\"text/html; charset=utf-8\" /><title>3.5.10 Documentation</title>\\n    <link rel=\"stylesheet\" href=\"_static/pydoctheme.css\" type=\"text/css\" />\\n    <link rel=\"stylesheet\" href=\"_static/pygments.css\" type=\"text/css\" />\\n    \\n    <script type=\"text/javascript\" id=\"documentation_options\" data-url_root=\"./\" src=\"_static/documentation_options.js\"></script>\\n    <script type=\"text/javascript\" src=\"_static/jquery.js\"></script>\\n    <script type=\"text/javascript\" src=\"_static/underscore.js\"></script>\\n    <script type=\"text/javascript\" src=\"_static/doctools.js\"></script>\\n    <script async=\"async\" type=\"text/javascript\" src=\"https://cdnjs.cloudflare.com/ajax/libs/mathjax/2.7.1/MathJax.js?config=TeX-AMS-MML_HTMLorMML\"></script>\\n    \\n    <script type=\"text/javascript\" src=\"_static/sidebar.js\"></script>\\n    \\n    <link rel=\"search\" type=\"application/opensearchdescription+xml\"\\n          title=\"Search within Python 3.5.10 documentation\"\\n          href=\"_static/opensearch.xml\"/>\\n    <link rel=\"author\" title=\"About these documents\" href=\"about.html\" />\\n    <link rel=\"index\" title=\"Index\" href=\"genindex.html\" />\\n    <link rel=\"search\" title=\"Search\" href=\"search.html\" />\\n    <link rel=\"copyright\" title=\"Copyright\" href=\"copyright.html\" />\\n    <link rel=\"shortcut icon\" type=\"image/png\" href=\"_static/py.png\" />\\n    <link rel=\"canonical\" href=\"https://docs.python.org/3/index.html\" />\\n    \\n    <script type=\"text/javascript\" src=\"_static/copybutton.js\"></script>\\n    \\n    \\n    \\n \\n\\n  </head><body>\\n  \\n    <div class=\"related\" role=\"navigation\" aria-label=\"related navigation\">\\n      <h3>Navigation</h3>\\n      <ul>\\n        <li class=\"right\" style=\"margin-right: 10px\">\\n          <a href=\"genindex.html\" title=\"General Index\"\\n             accesskey=\"I\">index</a></li>\\n        <li class=\"right\" >\\n          <a href=\"py-modindex.html\" title=\"Python Module Index\"\\n             >modules</a> |</li>\\n        <li><img src=\"_static/py.png\" alt=\"\"\\n                 style=\"vertical-align: middle; margin-top: -1px\"/></li>\\n        <li><a href=\"https://www.python.org/\">Python</a> &#187;</li>\\n        <li>\\n          <a href=\"#\">3.5.10 Documentation</a> &#187;\\n        </li>\\n\\n    <li class=\"right\">\\n        \\n\\n    <div class=\"inline-search\" style=\"display: none\" role=\"search\">\\n        <form class=\"inline-search\" action=\"search.html\" method=\"get\">\\n          <input placeholder=\"Quick search\" type=\"text\" name=\"q\" />\\n          <input type=\"submit\" value=\"Go\" />\\n          <input type=\"hidden\" name=\"check_keywords\" value=\"yes\" />\\n          <input type=\"hidden\" name=\"area\" value=\"default\" />\\n        </form>\\n    </div>\\n    <script type=\"text/javascript\">$(\\'.inline-search\\').show(0);</script>\\n         |\\n    </li>\\n\\n      </ul>\\n    </div>    \\n\\n    <div class=\"document\">\\n      <div class=\"documentwrapper\">\\n        <div class=\"bodywrapper\">\\n          <div class=\"body\" role=\"main\">\\n            \\n  <h1>Python 3.5.10 documentation</h1>\\n  <p>\\n  Welcome! This is the documentation for Python 3.5.10.\\n  </p>\\n  <p><strong>Parts of the documentation:</strong></p>\\n  <table class=\"contentstable\" align=\"center\"><tr>\\n    <td width=\"50%\">\\n      <p class=\"biglink\"><a class=\"biglink\" href=\"whatsnew/3.5.html\">What\\'s new in Python 3.5?</a><br/>\\n        <span class=\"linkdescr\"> or <a href=\"whatsnew/index.html\">all \"What\\'s new\" documents</a> since 2.0</span></p>\\n      <p class=\"biglink\"><a class=\"biglink\" href=\"tutorial/index.html\">Tutorial</a><br/>\\n         <span class=\"linkdescr\">start here</span></p>\\n      <p class=\"biglink\"><a class=\"biglink\" href=\"library/index.html\">Library Reference</a><br/>\\n         <span class=\"linkdescr\">keep this under your pillow</span></p>\\n      <p class=\"biglink\"><a class=\"biglink\" href=\"reference/index.html\">Language Reference</a><br/>\\n         <span class=\"linkdescr\">describes syntax and language elements</span></p>\\n      <p class=\"biglink\"><a class=\"biglink\" href=\"using/index.html\">Python Setup and Usage</a><br/>\\n         <span class=\"linkdescr\">how to use Python on different platforms</span></p>\\n      <p class=\"biglink\"><a class=\"biglink\" href=\"howto/index.html\">Python HOWTOs</a><br/>\\n         <span class=\"linkdescr\">in-depth documents on specific topics</span></p>\\n    </td><td width=\"50%\">\\n      <p class=\"biglink\"><a class=\"biglink\" href=\"installing/index.html\">Installing Python Modules</a><br/>\\n         <span class=\"linkdescr\">installing from the Python Package Index &amp; other sources</span></p>\\n      <p class=\"biglink\"><a class=\"biglink\" href=\"distributing/index.html\">Distributing Python Modules</a><br/>\\n         <span class=\"linkdescr\">publishing modules for installation by others</span></p>\\n      <p class=\"biglink\"><a class=\"biglink\" href=\"extending/index.html\">Extending and Embedding</a><br/>\\n         <span class=\"linkdescr\">tutorial for C/C++ programmers</span></p>\\n      <p class=\"biglink\"><a class=\"biglink\" href=\"c-api/index.html\">Python/C API</a><br/>\\n         <span class=\"linkdescr\">reference for C/C++ programmers</span></p>\\n      <p class=\"biglink\"><a class=\"biglink\" href=\"faq/index.html\">FAQs</a><br/>\\n         <span class=\"linkdescr\">frequently asked questions (with answers!)</span></p>\\n    </td></tr>\\n  </table>\\n\\n  <p><strong>Indices and tables:</strong></p>\\n  <table class=\"contentstable\" align=\"center\"><tr>\\n    <td width=\"50%\">\\n      <p class=\"biglink\"><a class=\"biglink\" href=\"py-modindex.html\">Global Module Index</a><br/>\\n         <span class=\"linkdescr\">quick access to all modules</span></p>\\n      <p class=\"biglink\"><a class=\"biglink\" href=\"genindex.html\">General Index</a><br/>\\n         <span class=\"linkdescr\">all functions, classes, terms</span></p>\\n      <p class=\"biglink\"><a class=\"biglink\" href=\"glossary.html\">Glossary</a><br/>\\n         <span class=\"linkdescr\">the most important terms explained</span></p>\\n    </td><td width=\"50%\">\\n      <p class=\"biglink\"><a class=\"biglink\" href=\"search.html\">Search page</a><br/>\\n         <span class=\"linkdescr\">search this documentation</span></p>\\n      <p class=\"biglink\"><a class=\"biglink\" href=\"contents.html\">Complete Table of Contents</a><br/>\\n         <span class=\"linkdescr\">lists all sections and subsections</span></p>\\n    </td></tr>\\n  </table>\\n\\n  <p><strong>Meta information:</strong></p>\\n  <table class=\"contentstable\" align=\"center\"><tr>\\n    <td width=\"50%\">\\n      <p class=\"biglink\"><a class=\"biglink\" href=\"bugs.html\">Reporting bugs</a></p>\\n      <p class=\"biglink\"><a class=\"biglink\" href=\"about.html\">About the documentation</a></p>\\n    </td><td width=\"50%\">\\n      <p class=\"biglink\"><a class=\"biglink\" href=\"license.html\">History and License of Python</a></p>\\n      <p class=\"biglink\"><a class=\"biglink\" href=\"copyright.html\">Copyright</a></p>\\n    </td></tr>\\n  </table>\\n\\n          </div>\\n        </div>\\n      </div>\\n      <div class=\"sphinxsidebar\" role=\"navigation\" aria-label=\"main navigation\">\\n        <div class=\"sphinxsidebarwrapper\"><h3>Download</h3>\\n<p><a href=\"download.html\">Download these documents</a></p>\\n<h3>Docs for other versions</h3>\\n<ul>\\n  <li><a href=\"https://docs.python.org/3.8/\">Python 3.8 (in development)</a></li>\\n  <li><a href=\"https://docs.python.org/3.7/\">Python 3.7 (stable)</a></li>\\n  <li><a href=\"https://docs.python.org/3.6/\">Python 3.6 (stable)</a></li>\\n  <li><a href=\"https://docs.python.org/2.7/\">Python 2.7 (stable)</a></li>\\n  <li><a href=\"https://www.python.org/doc/versions/\">Old versions</a></li>\\n</ul>\\n\\n<h3>Other resources</h3>\\n<ul>\\n  \\n  <li><a href=\"https://www.python.org/dev/peps/\">PEP Index</a></li>\\n  <li><a href=\"https://wiki.python.org/moin/BeginnersGuide\">Beginner\\'s Guide</a></li>\\n  <li><a href=\"https://wiki.python.org/moin/PythonBooks\">Book List</a></li>\\n  <li><a href=\"https://www.python.org/doc/av/\">Audio/Visual Talks</a></li>\\n</ul>\\n        </div>\\n      </div>\\n      <div class=\"clearer\"></div>\\n    </div>  \\n    <div class=\"related\" role=\"navigation\" aria-label=\"related navigation\">\\n      <h3>Navigation</h3>\\n      <ul>\\n        <li class=\"right\" style=\"margin-right: 10px\">\\n          <a href=\"genindex.html\" title=\"General Index\"\\n             >index</a></li>\\n        <li class=\"right\" >\\n          <a href=\"py-modindex.html\" title=\"Python Module Index\"\\n             >modules</a> |</li>\\n        <li><img src=\"_static/py.png\" alt=\"\"\\n                 style=\"vertical-align: middle; margin-top: -1px\"/></li>\\n        <li><a href=\"https://www.python.org/\">Python</a> &#187;</li>\\n        <li>\\n          <a href=\"#\">3.5.10 Documentation</a> &#187;\\n        </li>\\n\\n    <li class=\"right\">\\n        \\n\\n    <div class=\"inline-search\" style=\"display: none\" role=\"search\">\\n        <form class=\"inline-search\" action=\"search.html\" method=\"get\">\\n          <input placeholder=\"Quick search\" type=\"text\" name=\"q\" />\\n          <input type=\"submit\" value=\"Go\" />\\n          <input type=\"hidden\" name=\"check_keywords\" value=\"yes\" />\\n          <input type=\"hidden\" name=\"area\" value=\"default\" />\\n        </form>\\n    </div>\\n    <script type=\"text/javascript\">$(\\'.inline-search\\').show(0);</script>\\n         |\\n    </li>\\n\\n      </ul>\\n    </div>  \\n    <div class=\"footer\">\\n    &copy; <a href=\"copyright.html\">Copyright</a> 2001-2020, Python Software Foundation.\\n    <br />\\n    The Python Software Foundation is a non-profit corporation.\\n    <a href=\"https://www.python.org/psf/donations/\">Please donate.</a>\\n    <br />\\n    Last updated on Sep 05, 2020.\\n    <a href=\"bugs.html\">Found a bug</a>?\\n    <br />\\n    Created using <a href=\"http://sphinx.pocoo.org/\">Sphinx</a> 1.8.0.\\n    </div>\\n\\n  </body>\\n</html>'\n"
     ]
    }
   ],
   "source": [
    "print(res.content)"
   ]
  },
  {
   "cell_type": "code",
   "execution_count": 18,
   "metadata": {},
   "outputs": [
    {
     "name": "stdout",
     "output_type": "stream",
     "text": [
      "\n",
      "<!DOCTYPE html PUBLIC \"-//W3C//DTD XHTML 1.0 Transitional//EN\"\n",
      "  \"http://www.w3.org/TR/xhtml1/DTD/xhtml1-transitional.dtd\">\n",
      "\n",
      "<html xmlns=\"http://www.w3.org/1999/xhtml\">\n",
      "  <head>\n",
      "    <meta http-equiv=\"X-UA-Compatible\" content=\"IE=Edge\" />\n",
      "    <meta http-equiv=\"Content-Type\" content=\"text/html; charset=utf-8\" /><title>3.5.10 Documentation</title>\n",
      "    <link rel=\"stylesheet\" href=\"_static/pydoctheme.css\" type=\"text/css\" />\n",
      "    <link rel=\"stylesheet\" href=\"_static/pygments.css\" type=\"text/css\" />\n",
      "    \n",
      "    <script type=\"text/javascript\" id=\"documentation_options\" data-url_root=\"./\" src=\"_static/documentation_options.js\"></script>\n",
      "    <script type=\"text/javascript\" src=\"_static/jquery.js\"></script>\n",
      "    <script type=\"text/javascript\" src=\"_static/underscore.js\"></script>\n",
      "    <script type=\"text/javascript\" src=\"_static/doctools.js\"></script>\n",
      "    <script async=\"async\" type=\"text/javascript\" src=\"https://cdnjs.cloudflare.com/ajax/libs/mathjax/2.7.1/MathJax.js?config=TeX-AMS-MML_HTMLorMML\"></script>\n",
      "    \n",
      "    <script type=\"text/javascript\" src=\"_static/sidebar.js\"></script>\n",
      "    \n",
      "    <link rel=\"search\" type=\"application/opensearchdescription+xml\"\n",
      "          title=\"Search within Python 3.5.10 documentation\"\n",
      "          href=\"_static/opensearch.xml\"/>\n",
      "    <link rel=\"author\" title=\"About these documents\" href=\"about.html\" />\n",
      "    <link rel=\"index\" title=\"Index\" href=\"genindex.html\" />\n",
      "    <link rel=\"search\" title=\"Search\" href=\"search.html\" />\n",
      "    <link rel=\"copyright\" title=\"Copyright\" href=\"copyright.html\" />\n",
      "    <link rel=\"shortcut icon\" type=\"image/png\" href=\"_static/py.png\" />\n",
      "    <link rel=\"canonical\" href=\"https://docs.python.org/3/index.html\" />\n",
      "    \n",
      "    <script type=\"text/javascript\" src=\"_static/copybutton.js\"></script>\n",
      "    \n",
      "    \n",
      "    \n",
      " \n",
      "\n",
      "  </head><body>\n",
      "  \n",
      "    <div class=\"related\" role=\"navigation\" aria-label=\"related navigation\">\n",
      "      <h3>Navigation</h3>\n",
      "      <ul>\n",
      "        <li class=\"right\" style=\"margin-right: 10px\">\n",
      "          <a href=\"genindex.html\" title=\"General Index\"\n",
      "             accesskey=\"I\">index</a></li>\n",
      "        <li class=\"right\" >\n",
      "          <a href=\"py-modindex.html\" title=\"Python Module Index\"\n",
      "             >modules</a> |</li>\n",
      "        <li><img src=\"_static/py.png\" alt=\"\"\n",
      "                 style=\"vertical-align: middle; margin-top: -1px\"/></li>\n",
      "        <li><a href=\"https://www.python.org/\">Python</a> &#187;</li>\n",
      "        <li>\n",
      "          <a href=\"#\">3.5.10 Documentation</a> &#187;\n",
      "        </li>\n",
      "\n",
      "    <li class=\"right\">\n",
      "        \n",
      "\n",
      "    <div class=\"inline-search\" style=\"display: none\" role=\"search\">\n",
      "        <form class=\"inline-search\" action=\"search.html\" method=\"get\">\n",
      "          <input placeholder=\"Quick search\" type=\"text\" name=\"q\" />\n",
      "          <input type=\"submit\" value=\"Go\" />\n",
      "          <input type=\"hidden\" name=\"check_keywords\" value=\"yes\" />\n",
      "          <input type=\"hidden\" name=\"area\" value=\"default\" />\n",
      "        </form>\n",
      "    </div>\n",
      "    <script type=\"text/javascript\">$('.inline-search').show(0);</script>\n",
      "         |\n",
      "    </li>\n",
      "\n",
      "      </ul>\n",
      "    </div>    \n",
      "\n",
      "    <div class=\"document\">\n",
      "      <div class=\"documentwrapper\">\n",
      "        <div class=\"bodywrapper\">\n",
      "          <div class=\"body\" role=\"main\">\n",
      "            \n",
      "  <h1>Python 3.5.10 documentation</h1>\n",
      "  <p>\n",
      "  Welcome! This is the documentation for Python 3.5.10.\n",
      "  </p>\n",
      "  <p><strong>Parts of the documentation:</strong></p>\n",
      "  <table class=\"contentstable\" align=\"center\"><tr>\n",
      "    <td width=\"50%\">\n",
      "      <p class=\"biglink\"><a class=\"biglink\" href=\"whatsnew/3.5.html\">What's new in Python 3.5?</a><br/>\n",
      "        <span class=\"linkdescr\"> or <a href=\"whatsnew/index.html\">all \"What's new\" documents</a> since 2.0</span></p>\n",
      "      <p class=\"biglink\"><a class=\"biglink\" href=\"tutorial/index.html\">Tutorial</a><br/>\n",
      "         <span class=\"linkdescr\">start here</span></p>\n",
      "      <p class=\"biglink\"><a class=\"biglink\" href=\"library/index.html\">Library Reference</a><br/>\n",
      "         <span class=\"linkdescr\">keep this under your pillow</span></p>\n",
      "      <p class=\"biglink\"><a class=\"biglink\" href=\"reference/index.html\">Language Reference</a><br/>\n",
      "         <span class=\"linkdescr\">describes syntax and language elements</span></p>\n",
      "      <p class=\"biglink\"><a class=\"biglink\" href=\"using/index.html\">Python Setup and Usage</a><br/>\n",
      "         <span class=\"linkdescr\">how to use Python on different platforms</span></p>\n",
      "      <p class=\"biglink\"><a class=\"biglink\" href=\"howto/index.html\">Python HOWTOs</a><br/>\n",
      "         <span class=\"linkdescr\">in-depth documents on specific topics</span></p>\n",
      "    </td><td width=\"50%\">\n",
      "      <p class=\"biglink\"><a class=\"biglink\" href=\"installing/index.html\">Installing Python Modules</a><br/>\n",
      "         <span class=\"linkdescr\">installing from the Python Package Index &amp; other sources</span></p>\n",
      "      <p class=\"biglink\"><a class=\"biglink\" href=\"distributing/index.html\">Distributing Python Modules</a><br/>\n",
      "         <span class=\"linkdescr\">publishing modules for installation by others</span></p>\n",
      "      <p class=\"biglink\"><a class=\"biglink\" href=\"extending/index.html\">Extending and Embedding</a><br/>\n",
      "         <span class=\"linkdescr\">tutorial for C/C++ programmers</span></p>\n",
      "      <p class=\"biglink\"><a class=\"biglink\" href=\"c-api/index.html\">Python/C API</a><br/>\n",
      "         <span class=\"linkdescr\">reference for C/C++ programmers</span></p>\n",
      "      <p class=\"biglink\"><a class=\"biglink\" href=\"faq/index.html\">FAQs</a><br/>\n",
      "         <span class=\"linkdescr\">frequently asked questions (with answers!)</span></p>\n",
      "    </td></tr>\n",
      "  </table>\n",
      "\n",
      "  <p><strong>Indices and tables:</strong></p>\n",
      "  <table class=\"contentstable\" align=\"center\"><tr>\n",
      "    <td width=\"50%\">\n",
      "      <p class=\"biglink\"><a class=\"biglink\" href=\"py-modindex.html\">Global Module Index</a><br/>\n",
      "         <span class=\"linkdescr\">quick access to all modules</span></p>\n",
      "      <p class=\"biglink\"><a class=\"biglink\" href=\"genindex.html\">General Index</a><br/>\n",
      "         <span class=\"linkdescr\">all functions, classes, terms</span></p>\n",
      "      <p class=\"biglink\"><a class=\"biglink\" href=\"glossary.html\">Glossary</a><br/>\n",
      "         <span class=\"linkdescr\">the most important terms explained</span></p>\n",
      "    </td><td width=\"50%\">\n",
      "      <p class=\"biglink\"><a class=\"biglink\" href=\"search.html\">Search page</a><br/>\n",
      "         <span class=\"linkdescr\">search this documentation</span></p>\n",
      "      <p class=\"biglink\"><a class=\"biglink\" href=\"contents.html\">Complete Table of Contents</a><br/>\n",
      "         <span class=\"linkdescr\">lists all sections and subsections</span></p>\n",
      "    </td></tr>\n",
      "  </table>\n",
      "\n",
      "  <p><strong>Meta information:</strong></p>\n",
      "  <table class=\"contentstable\" align=\"center\"><tr>\n",
      "    <td width=\"50%\">\n",
      "      <p class=\"biglink\"><a class=\"biglink\" href=\"bugs.html\">Reporting bugs</a></p>\n",
      "      <p class=\"biglink\"><a class=\"biglink\" href=\"about.html\">About the documentation</a></p>\n",
      "    </td><td width=\"50%\">\n",
      "      <p class=\"biglink\"><a class=\"biglink\" href=\"license.html\">History and License of Python</a></p>\n",
      "      <p class=\"biglink\"><a class=\"biglink\" href=\"copyright.html\">Copyright</a></p>\n",
      "    </td></tr>\n",
      "  </table>\n",
      "\n",
      "          </div>\n",
      "        </div>\n",
      "      </div>\n",
      "      <div class=\"sphinxsidebar\" role=\"navigation\" aria-label=\"main navigation\">\n",
      "        <div class=\"sphinxsidebarwrapper\"><h3>Download</h3>\n",
      "<p><a href=\"download.html\">Download these documents</a></p>\n",
      "<h3>Docs for other versions</h3>\n",
      "<ul>\n",
      "  <li><a href=\"https://docs.python.org/3.8/\">Python 3.8 (in development)</a></li>\n",
      "  <li><a href=\"https://docs.python.org/3.7/\">Python 3.7 (stable)</a></li>\n",
      "  <li><a href=\"https://docs.python.org/3.6/\">Python 3.6 (stable)</a></li>\n",
      "  <li><a href=\"https://docs.python.org/2.7/\">Python 2.7 (stable)</a></li>\n",
      "  <li><a href=\"https://www.python.org/doc/versions/\">Old versions</a></li>\n",
      "</ul>\n",
      "\n",
      "<h3>Other resources</h3>\n",
      "<ul>\n",
      "  \n",
      "  <li><a href=\"https://www.python.org/dev/peps/\">PEP Index</a></li>\n",
      "  <li><a href=\"https://wiki.python.org/moin/BeginnersGuide\">Beginner's Guide</a></li>\n",
      "  <li><a href=\"https://wiki.python.org/moin/PythonBooks\">Book List</a></li>\n",
      "  <li><a href=\"https://www.python.org/doc/av/\">Audio/Visual Talks</a></li>\n",
      "</ul>\n",
      "        </div>\n",
      "      </div>\n",
      "      <div class=\"clearer\"></div>\n",
      "    </div>  \n",
      "    <div class=\"related\" role=\"navigation\" aria-label=\"related navigation\">\n",
      "      <h3>Navigation</h3>\n",
      "      <ul>\n",
      "        <li class=\"right\" style=\"margin-right: 10px\">\n",
      "          <a href=\"genindex.html\" title=\"General Index\"\n",
      "             >index</a></li>\n",
      "        <li class=\"right\" >\n",
      "          <a href=\"py-modindex.html\" title=\"Python Module Index\"\n",
      "             >modules</a> |</li>\n",
      "        <li><img src=\"_static/py.png\" alt=\"\"\n",
      "                 style=\"vertical-align: middle; margin-top: -1px\"/></li>\n",
      "        <li><a href=\"https://www.python.org/\">Python</a> &#187;</li>\n",
      "        <li>\n",
      "          <a href=\"#\">3.5.10 Documentation</a> &#187;\n",
      "        </li>\n",
      "\n",
      "    <li class=\"right\">\n",
      "        \n",
      "\n",
      "    <div class=\"inline-search\" style=\"display: none\" role=\"search\">\n",
      "        <form class=\"inline-search\" action=\"search.html\" method=\"get\">\n",
      "          <input placeholder=\"Quick search\" type=\"text\" name=\"q\" />\n",
      "          <input type=\"submit\" value=\"Go\" />\n",
      "          <input type=\"hidden\" name=\"check_keywords\" value=\"yes\" />\n",
      "          <input type=\"hidden\" name=\"area\" value=\"default\" />\n",
      "        </form>\n",
      "    </div>\n",
      "    <script type=\"text/javascript\">$('.inline-search').show(0);</script>\n",
      "         |\n",
      "    </li>\n",
      "\n",
      "      </ul>\n",
      "    </div>  \n",
      "    <div class=\"footer\">\n",
      "    &copy; <a href=\"copyright.html\">Copyright</a> 2001-2020, Python Software Foundation.\n",
      "    <br />\n",
      "    The Python Software Foundation is a non-profit corporation.\n",
      "    <a href=\"https://www.python.org/psf/donations/\">Please donate.</a>\n",
      "    <br />\n",
      "    Last updated on Sep 05, 2020.\n",
      "    <a href=\"bugs.html\">Found a bug</a>?\n",
      "    <br />\n",
      "    Created using <a href=\"http://sphinx.pocoo.org/\">Sphinx</a> 1.8.0.\n",
      "    </div>\n",
      "\n",
      "  </body>\n",
      "</html>\n"
     ]
    }
   ],
   "source": [
    "print(res.text)  # только если мы уверены в том, что данные являются тектом"
   ]
  },
  {
   "cell_type": "code",
   "execution_count": 21,
   "metadata": {},
   "outputs": [
    {
     "name": "stdout",
     "output_type": "stream",
     "text": [
      "image/png\n"
     ]
    }
   ],
   "source": [
    "res = req.get(\"https://docs.python.org/3.5/_static/py.png\")  # выкачали фотку с сайта\n",
    "\n",
    "print(res.headers['Content-Type'])\n",
    "with open(\"py.png\", \"wb\") as f:\n",
    "    f.write(res.content)  # сохранили данные в файл py.png"
   ]
  },
  {
   "cell_type": "code",
   "execution_count": 1,
   "metadata": {},
   "outputs": [
    {
     "ename": "NameError",
     "evalue": "name 'req' is not defined",
     "output_type": "error",
     "traceback": [
      "\u001b[0;31m-------------------------------------\u001b[0m",
      "\u001b[0;31mNameError\u001b[0mTraceback (most recent call last)",
      "\u001b[0;32m<ipython-input-1-3595117b28e1>\u001b[0m in \u001b[0;36m<module>\u001b[0;34m\u001b[0m\n\u001b[1;32m      1\u001b[0m \u001b[0;31m# использование параметра\u001b[0m\u001b[0;34m\u001b[0m\u001b[0;34m\u001b[0m\u001b[0;34m\u001b[0m\u001b[0m\n\u001b[0;32m----> 2\u001b[0;31m res = req.get(\"https://yandex.ru/search/\",\n\u001b[0m\u001b[1;32m      3\u001b[0m              params={\"text\": \"Stepic\"})\n\u001b[1;32m      4\u001b[0m \u001b[0mprint\u001b[0m\u001b[0;34m(\u001b[0m\u001b[0mres\u001b[0m\u001b[0;34m.\u001b[0m\u001b[0mstatus_code\u001b[0m\u001b[0;34m)\u001b[0m\u001b[0;34m\u001b[0m\u001b[0;34m\u001b[0m\u001b[0m\n\u001b[1;32m      5\u001b[0m \u001b[0mprint\u001b[0m\u001b[0;34m(\u001b[0m\u001b[0mres\u001b[0m\u001b[0;34m.\u001b[0m\u001b[0mheaders\u001b[0m\u001b[0;34m[\u001b[0m\u001b[0;34m'Content-Type'\u001b[0m\u001b[0;34m]\u001b[0m\u001b[0;34m)\u001b[0m\u001b[0;34m\u001b[0m\u001b[0;34m\u001b[0m\u001b[0m\n",
      "\u001b[0;31mNameError\u001b[0m: name 'req' is not defined"
     ]
    }
   ],
   "source": [
    "# использование параметра\n",
    "res = req.get(\"https://yandex.ru/search/\",\n",
    "             params={\"text\": \"Stepic\"})\n",
    "print(res.status_code)\n",
    "print(res.headers['Content-Type'])\n",
    "print(res.url)\n",
    "print(res.text)"
   ]
  },
  {
   "cell_type": "code",
   "execution_count": 59,
   "metadata": {},
   "outputs": [
    {
     "name": "stdout",
     "output_type": "stream",
     "text": [
      "200\n",
      "text/html\n",
      "https://yandex.ru/showcaptcha?cc=1&retpath=https%3A//yandex.ru/search%3Ftext%3DStepic%26test%3Dtest1%26name%3DName%2BWith%2BSpaces%26list%3Dtest1%26list%3Dtest2_c164ac98d2b53041e99670300c9e5a8d&t=0/1602631987/6880bda8ba045d91bb672953d59bba20&s=1f0fba39a3a11165b0634d95252a2a1f\n",
      "<!DOCTYPE html><html class=\"i-ua_js_no i-ua_css_standard\" prefix=\"og: http://ogp.me/ns#\" lang=\"ru\"><head><meta charset=\"utf-8\"/><meta http-equiv=\"X-UA-Compatible\" content=\"IE=edge\"/><title>ÐÐ¹!</title><script>;(function(d,e,c,r){e=d.documentElement;c=\"className\";r=\"replace\";e[c]=e[c][r](\"i-ua_js_no\",\"i-ua_js_yes\");if(d.compatMode!=\"CSS1Compat\")e[c]=e[c][r](\"i-ua_css_standart\",\"i-ua_css_quirks\")})(document);;(function(d,e,c,n,w,v,f){e=d.documentElement;c=\"className\";n=\"createElementNS\";f=\"firstChild\";w=\"http://www.w3.org/2000/svg\";e[c]+=\" i-ua_svg_\"+(!!d[n]&&!!d[n](w,\"svg\").createSVGRect?\"yes\":\"no\");v=d.createElement(\"div\");v.innerHTML=\"<svg/>\";e[c]+=\" i-ua_inlinesvg_\"+((v[f]&&v[f].namespaceURI)==w?\"yes\":\"no\");})(document);</script><meta property=\"og:image\" content=\"https://yastatic.net/s3/home/logos/share/share-logo-ru.png\"/><meta property=\"og:title\" content=\"Ð¯Ð½Ð´ÐµÐºÑ\"/><meta property=\"og:description\" content=\"ÐÐ°Ð¹Ð´ÑÑÑÑ Ð²ÑÑ\"/><script src=\"captcha.error-counter.js?rnd=885349437167\" id=\"error-counter\" data-reqid=\"1602631987969296-1202671359497565286\"></script><!--[if gt IE 8]><!--><link rel=\"stylesheet\" href=\"captcha.min.css?rnd=885349437167\"/><!--<![endif]--><meta name=\"viewport\" content=\"width=device-width, initial-scale=1\"/></head><body class=\"b-page b-page_service_default b-page__body i-ua i-global i-bem\" data-bem='{\"i-ua\":{},\"i-global\":{\"lang\":\"ru\",\"tld\":\"ru\",\"content-region\":\"ru\",\"click-host\":\"//clck.yandex.ru\",\"passport-host\":\"https://passport.yandex.ru\",\"pass-host\":\"https://pass.yandex.ru\",\"social-host\":\"https://social.yandex.ru\",\"export-host\":\"https://export.yandex.ru\",\"login\":\"\",\"lego-static-host\":\"https://yastatic.net/lego/2.10-142\"}}'><div class=\"central\"><div class=\"logo-wrapper\"><a class=\"logo-wrapper__logo logo-wrapper__logo_name_default\" href=\"https://www.yandex.ru\" title=\"Ð¯Ð½Ð´ÐµÐºÑ\"></a></div><p class=\"text-wrapper text-wrapper_info\">ÐÐ°Ð¼ Ð¾ÑÐµÐ½Ñ Ð¶Ð°Ð»Ñ, Ð½Ð¾ Ð·Ð°Ð¿ÑÐ¾ÑÑ, Ð¿Ð¾ÑÑÑÐ¿Ð¸Ð²ÑÐ¸Ðµ Ñ Ð²Ð°ÑÐµÐ³Ð¾ IP-Ð°Ð´ÑÐµÑÐ°, Ð¿Ð¾Ñ",
      "Ð¾Ð¶Ð¸ Ð½Ð° Ð°Ð²ÑÐ¾Ð¼Ð°ÑÐ¸ÑÐµÑÐºÐ¸Ðµ.</p><form class=\"form form_error_no\" method=\"get\" action=\"/checkcaptcha\" onsubmit=\"ym(10630330, 'reachGoal', 'enter_captcha_value', { 'req_id': '1602631987969296-1202671359497565286' }); return true;\"><input class=\"form__key\" type=\"hidden\" name=\"key\" value=\"00AYLepLhyPBVunYxB7s2XHZHKHb5nQi_0/1602631987/6880bda8ba045d91bb672953d59bba20_84cc8db1650527808651a5e4d6f397c8\"/><input class=\"form__retpath\" type=\"hidden\" name=\"retpath\" value=\"https://yandex.ru/search?text=Stepic&amp;test=test1&amp;name=Name+With+Spaces&amp;list=test1&amp;list=test2_c164ac98d2b53041e99670300c9e5a8d\"/><div class=\"captcha-wrapper\"><div class=\"captcha i-bem\" data-bem='{\"captcha\":{\"captchaSound\":\"https://yandex.ru/captcha/voice?aHR0cHM6Ly9leHQuY2FwdGNoYS55YW5kZXgubmV0L3ZvaWNlP2tleT0wMEFZTGVwTGh5UEJWdW5ZeEI3czJYSFpIS0hiNW5RaQ,,_0/1602631987/6880bda8ba045d91bb672953d59bba20_c7615edf5ad829575b89853cd947c1fa\",\"introSound\":\"https://yandex.ru/captcha/voiceintro?aHR0cHM6Ly9leHQuY2FwdGNoYS55YW5kZXgubmV0L3N0YXRpYy9pbnRyby1ydS5tcDM,_0/1602631987/6880bda8ba045d91bb672953d59bba20_cfbdd6c3a7a19627e3035204ad89f37d\"}}'><div class=\"captcha__image\"><img src=\"https://yandex.ru/captchaimg?aHR0cHM6Ly9leHQuY2FwdGNoYS55YW5kZXgubmV0L2ltYWdlP2tleT0wMEFZTGVwTGh5UEJWdW5ZeEI3czJYSFpIS0hiNW5RaSZzZXJ2aWNlPXdlYg,,_0/1602631987/6880bda8ba045d91bb672953d59bba20_50433f16b068c7c357ffa3ac969404fe\"/></div><div class=\"captcha__play-button\"><div class=\"captcha__play\"><div class=\"captcha__play-image\"></div><div class=\"captcha__play-text\">ÐÑÐ¾Ð¸Ð·Ð½ÐµÑÑÐ¸</div><div class=\"captcha__playing-text\">ÐÐ¾ÑÐ¿ÑÐ¾Ð¸Ð·Ð²Ð¾Ð´Ð¸ÑÑÑ</div></div></div></div></div><div class=\"actions i-bem\" data-bem='{\"actions\":{}}'><div class=\"actions__action-button actions__button actions__button_action_refresh\"><div class=\"actions__button-image\"></div><div>ÐÑÑÐ³Ð¾Ð¹ ÐºÐ¾Ð´</div></div><div class=\"actions__action-button actions__button actions__button_action_audio\"><div class=\"actions__button-image\"></div><div>ÐÑÐ´Ð¸Ð¾</div></div><div class=\"actions__action-button actions__button actions__button_action_text\"><div class=\"actions__button-image\"></div><div>ÐÐ·Ð¾Ð±ÑÐ°Ð¶ÐµÐ½Ð¸Ðµ</div></div></div><div class=\"input-wrapper input-wrapper_focused i-bem\" data-bem='{\"input-wrapper\":{}}'><div class=\"input-wrapper__input-field\"><input class=\"input-wrapper__content\" name=\"rep\" autofocus=\"yes\" autocomplete=\"off\"/><div class=\"input-wrapper__placeholder\">ÐÐ²ÐµÐ´Ð¸ÑÐµ ÐºÐ¾Ð´</div></div><div class=\"input-wrapper__wrong-text\">ÐÐµÐ²ÐµÑÐ½Ð¾, Ð¿Ð¾Ð¿ÑÐ¾Ð±ÑÐ¹ÑÐµ ÐµÑÐµ ÑÐ°Ð·</div><div class=\"input-wrapper__input-info input-wrapper__input-info_maxwidth_yes\">ÐÑÐ¿Ð¾Ð»ÑÐ·ÑÐ¹ÑÐµ ÑÑÑÐ¾ÑÐ½ÑÐµ Ð¸ Ð¿ÑÐ¾Ð¿Ð¸ÑÐ½ÑÐµ Ð±ÑÐºÐ²Ñ. ÐÐ½Ð°ÐºÐ¸ Ð¿ÑÐµÐ¿Ð¸Ð½Ð°Ð½Ð¸Ñ Ð¸ Ð¿ÑÐ¾Ð±ÐµÐ»Ñ Ð¼Ð¾Ð¶Ð½Ð¾ Ð¸Ð³Ð½Ð¾ÑÐ¸ÑÐ¾Ð²Ð°ÑÑ.</div></div><button class=\"submit\">ÐÑÐ¿ÑÐ°Ð²Ð¸ÑÑ Ð¸ Ð¿ÑÐ¾Ð´Ð¾Ð»Ð¶Ð¸ÑÑ</button></form><div class=\"text-wrapper text-wrapper_help\"><span>ÐÑÐ»Ð¸ Ñ Ð²Ð°Ñ Ð²Ð¾Ð·Ð½Ð¸ÐºÐ»Ð¸ Ð¿ÑÐ¾Ð±Ð»ÐµÐ¼Ñ, Ð¿Ð¾Ð¶Ð°Ð»ÑÐ¹ÑÑÐ°, Ð²Ð¾ÑÐ¿Ð¾Ð»ÑÐ·ÑÐ¹ÑÐµÑÑ </span><a class=\"link i-bem\" tabindex=\"0\" href=\"https://yandex.ru/support/captcha/\" onclick=\"ym(10630330, 'reachGoal', 'support_complain', { 'req_id': '1602631987969296-1202671359497565286' }); return true;\" data-bem='{\"link\":{}}'>ÑÐ¾ÑÐ¼Ð¾Ð¹ Ð¾Ð±ÑÐ°ÑÐ½Ð¾Ð¹ ÑÐ²ÑÐ·Ð¸.</a></div></div><!--[if gt IE 8]><!--><script src=\"https://yastatic.net/jquery/2.2.3/jquery.min.js\"></script><!--<![endif]--><script src=\"captcha.min.js?rnd=885349437167\" id=\"main-script\" data-verochka-params=\"{&quot;req_id&quot;: &quot;1602631987969296-1202671359497565286&quot;, &quot;service&quot;: &quot;web&quot;}\"></script><script src=\"https://yastatic.net/howler/2.0.0/howler.min.js\"></script>\n",
      "<!-- Yandex.Metrika counter -->\n",
      "<script type=\"text/javascript\" >\n",
      "   (function(m,e,t,r,i,k,a){m[i]=m[i]||function(){(m[i].a=m[i].a||[]).push(arguments)};\n",
      "   m[i].l=1*new Date();k=e.createElement(t),a=e.getElementsByTagName(t)[0],k.async=1,k.src=r,a.parentNode.insertBefore(k,a)})\n",
      "   (window, document, \"script\", \"https://mc.yandex.ru/metrika/tag.js\", \"ym\");\n",
      "\n",
      "   ym(10630330, \"init\", {\n",
      "        clickmap:true,\n",
      "        trackLinks:true,\n",
      "        accurateTrackBounce:true,\n",
      "        webvisor:true,\n",
      "        ut:\"noindex\",\n",
      "        params:{ \"service\": \"web\", \"req_id\": \"1602631987969296-1202671359497565286\", \"ident_type\": \"1\" }\n",
      "   });\n",
      "</script>\n",
      "<noscript><div><img src=\"https://mc.yandex.ru/watch/10630330?ut=noindex\" style=\"position:absolute; left:-9999px;\" alt=\"\" /></div></noscript>\n",
      "<!-- /Yandex.Metrika counter -->\n",
      "</body></html>\n"
     ]
    }
   ],
   "source": [
    "# использование параметров\n",
    "res = req.get(\"https://yandex.ru/search/\",\n",
    "             params={\n",
    "                 \"text\": \"Stepic\",\n",
    "                 \"test\": \"test1\",\n",
    "                 \"name\": \"Name With Spaces\",\n",
    "                 \"list\": [\"test1\", \"test2\"]\n",
    "             })\n",
    "print(res.status_code)\n",
    "print(res.headers['Content-Type'])\n",
    "print(res.url)\n",
    "print(res.text)"
   ]
  },
  {
   "cell_type": "code",
   "execution_count": 13,
   "metadata": {},
   "outputs": [
    {
     "name": "stdout",
     "output_type": "stream",
     "text": [
      "True\n"
     ]
    }
   ],
   "source": [
    "import json\n",
    "res = req.get(\"http://numbersapi.com/31/math?json=true\")\n",
    "s = json.loads(res.text)['found']\n",
    "print(s)"
   ]
  },
  {
   "cell_type": "code",
   "execution_count": null,
   "metadata": {},
   "outputs": [],
   "source": []
  }
 ],
 "metadata": {
  "kernelspec": {
   "display_name": "Python 3",
   "language": "python",
   "name": "python3"
  },
  "language_info": {
   "codemirror_mode": {
    "name": "ipython",
    "version": 3
   },
   "file_extension": ".py",
   "mimetype": "text/x-python",
   "name": "python",
   "nbconvert_exporter": "python",
   "pygments_lexer": "ipython3",
   "version": "3.8.6"
  }
 },
 "nbformat": 4,
 "nbformat_minor": 4
}
